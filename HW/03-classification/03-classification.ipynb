{
 "cells": [
  {
   "cell_type": "markdown",
   "id": "85bb74c4",
   "metadata": {},
   "source": [
    "# 03-classification-homework- California Housing Prices"
   ]
  },
  {
   "cell_type": "markdown",
   "id": "fabdad53",
   "metadata": {},
   "source": [
    "### Import libraries"
   ]
  },
  {
   "cell_type": "code",
   "execution_count": 1,
   "id": "a419c8b9",
   "metadata": {},
   "outputs": [],
   "source": [
    "import warnings\n",
    "warnings.filterwarnings('ignore') # setting ignore as a parameter\n",
    "import os as os\n",
    "import shutil as shutil\n",
    "import wget"
   ]
  },
  {
   "cell_type": "code",
   "execution_count": 2,
   "id": "012fce53",
   "metadata": {},
   "outputs": [],
   "source": [
    "import numpy as np\n",
    "import pandas as pd\n",
    "import seaborn as sns\n",
    "from matplotlib import pyplot as plt\n",
    "%matplotlib inline"
   ]
  },
  {
   "cell_type": "code",
   "execution_count": 3,
   "id": "ba3f77e9",
   "metadata": {},
   "outputs": [],
   "source": [
    "from sklearn.model_selection import train_test_split\n",
    "from sklearn.metrics import mutual_info_score"
   ]
  },
  {
   "cell_type": "markdown",
   "id": "8d3acc24",
   "metadata": {},
   "source": [
    "### Get the Dataset : Hosuing Price"
   ]
  },
  {
   "cell_type": "code",
   "execution_count": 4,
   "id": "fd2c9a7a",
   "metadata": {},
   "outputs": [
    {
     "name": "stdout",
     "output_type": "stream",
     "text": [
      "\n",
      "Taking backup and deleting already existing file: housing.csv\n",
      "\n",
      "Downloading the file: housing.csv , from https://raw.githubusercontent.com/alexeygrigorev/datasets/master/housing.csv\n",
      "100% [..........................................................................] 1423529 / 1423529\n",
      "Downloading the file: housing.csv , Completed\n"
     ]
    }
   ],
   "source": [
    "# Get California Housing Prices data from Kaggle.    \n",
    "dataset_url = 'https://raw.githubusercontent.com/alexeygrigorev/datasets/master/housing.csv'\n",
    "dataset_filename = 'housing.csv'\n",
    "dataset_filename_bk =  'housing_bk.csv'\n",
    "\n",
    "# If file exists then take a backup and delete\n",
    "if(os.path.isfile(dataset_filename) ):\n",
    "    print(f'\\nTaking backup and deleting already existing file: {dataset_filename}')\n",
    "    shutil.copyfile(dataset_filename, dataset_filename_bk)\n",
    "    #remove the file\n",
    "    os.remove(dataset_filename)\n",
    "\n",
    "# Download latest file\n",
    "print(f'\\nDownloading the file: {dataset_filename} , from {dataset_url}')\n",
    "dataset_filename = wget.download(dataset_url)\n",
    "print(f'\\nDownloading the file: {dataset_filename} , Completed')"
   ]
  },
  {
   "cell_type": "markdown",
   "id": "73cd1d7e",
   "metadata": {},
   "source": [
    "### Exploratory Data Analysis (EDA)"
   ]
  },
  {
   "cell_type": "code",
   "execution_count": 5,
   "id": "fac32a2e",
   "metadata": {},
   "outputs": [
    {
     "name": "stdout",
     "output_type": "stream",
     "text": [
      "There are 20640 records and 10 columns in the Housing dataset\n"
     ]
    }
   ],
   "source": [
    "house_full_df = pd.read_csv(dataset_filename)\n",
    "house_df = house_full_df\n",
    "nRow, nColumn = house_df.shape\n",
    "print(f'There are {nRow} records and {nColumn} columns in the Housing dataset')"
   ]
  },
  {
   "cell_type": "code",
   "execution_count": 6,
   "id": "92e0d31a",
   "metadata": {},
   "outputs": [
    {
     "data": {
      "text/plain": [
       "longitude             float64\n",
       "latitude              float64\n",
       "housing_median_age    float64\n",
       "total_rooms           float64\n",
       "total_bedrooms        float64\n",
       "population            float64\n",
       "households            float64\n",
       "median_income         float64\n",
       "median_house_value    float64\n",
       "ocean_proximity        object\n",
       "dtype: object"
      ]
     },
     "execution_count": 6,
     "metadata": {},
     "output_type": "execute_result"
    }
   ],
   "source": [
    "# Display column/feature data type\n",
    "house_df.dtypes"
   ]
  },
  {
   "cell_type": "code",
   "execution_count": 7,
   "id": "d2aa1d53",
   "metadata": {},
   "outputs": [
    {
     "data": {
      "text/html": [
       "<div>\n",
       "<style scoped>\n",
       "    .dataframe tbody tr th:only-of-type {\n",
       "        vertical-align: middle;\n",
       "    }\n",
       "\n",
       "    .dataframe tbody tr th {\n",
       "        vertical-align: top;\n",
       "    }\n",
       "\n",
       "    .dataframe thead th {\n",
       "        text-align: right;\n",
       "    }\n",
       "</style>\n",
       "<table border=\"1\" class=\"dataframe\">\n",
       "  <thead>\n",
       "    <tr style=\"text-align: right;\">\n",
       "      <th></th>\n",
       "      <th>longitude</th>\n",
       "      <th>latitude</th>\n",
       "      <th>housing_median_age</th>\n",
       "      <th>total_rooms</th>\n",
       "      <th>total_bedrooms</th>\n",
       "      <th>population</th>\n",
       "      <th>households</th>\n",
       "      <th>median_income</th>\n",
       "      <th>median_house_value</th>\n",
       "      <th>ocean_proximity</th>\n",
       "    </tr>\n",
       "  </thead>\n",
       "  <tbody>\n",
       "    <tr>\n",
       "      <th>0</th>\n",
       "      <td>-122.23</td>\n",
       "      <td>37.88</td>\n",
       "      <td>41.0</td>\n",
       "      <td>880.0</td>\n",
       "      <td>129.0</td>\n",
       "      <td>322.0</td>\n",
       "      <td>126.0</td>\n",
       "      <td>8.3252</td>\n",
       "      <td>452600.0</td>\n",
       "      <td>NEAR BAY</td>\n",
       "    </tr>\n",
       "    <tr>\n",
       "      <th>1</th>\n",
       "      <td>-122.22</td>\n",
       "      <td>37.86</td>\n",
       "      <td>21.0</td>\n",
       "      <td>7099.0</td>\n",
       "      <td>1106.0</td>\n",
       "      <td>2401.0</td>\n",
       "      <td>1138.0</td>\n",
       "      <td>8.3014</td>\n",
       "      <td>358500.0</td>\n",
       "      <td>NEAR BAY</td>\n",
       "    </tr>\n",
       "    <tr>\n",
       "      <th>2</th>\n",
       "      <td>-122.24</td>\n",
       "      <td>37.85</td>\n",
       "      <td>52.0</td>\n",
       "      <td>1467.0</td>\n",
       "      <td>190.0</td>\n",
       "      <td>496.0</td>\n",
       "      <td>177.0</td>\n",
       "      <td>7.2574</td>\n",
       "      <td>352100.0</td>\n",
       "      <td>NEAR BAY</td>\n",
       "    </tr>\n",
       "    <tr>\n",
       "      <th>3</th>\n",
       "      <td>-122.25</td>\n",
       "      <td>37.85</td>\n",
       "      <td>52.0</td>\n",
       "      <td>1274.0</td>\n",
       "      <td>235.0</td>\n",
       "      <td>558.0</td>\n",
       "      <td>219.0</td>\n",
       "      <td>5.6431</td>\n",
       "      <td>341300.0</td>\n",
       "      <td>NEAR BAY</td>\n",
       "    </tr>\n",
       "    <tr>\n",
       "      <th>4</th>\n",
       "      <td>-122.25</td>\n",
       "      <td>37.85</td>\n",
       "      <td>52.0</td>\n",
       "      <td>1627.0</td>\n",
       "      <td>280.0</td>\n",
       "      <td>565.0</td>\n",
       "      <td>259.0</td>\n",
       "      <td>3.8462</td>\n",
       "      <td>342200.0</td>\n",
       "      <td>NEAR BAY</td>\n",
       "    </tr>\n",
       "  </tbody>\n",
       "</table>\n",
       "</div>"
      ],
      "text/plain": [
       "   longitude  latitude  housing_median_age  total_rooms  total_bedrooms  \\\n",
       "0    -122.23     37.88                41.0        880.0           129.0   \n",
       "1    -122.22     37.86                21.0       7099.0          1106.0   \n",
       "2    -122.24     37.85                52.0       1467.0           190.0   \n",
       "3    -122.25     37.85                52.0       1274.0           235.0   \n",
       "4    -122.25     37.85                52.0       1627.0           280.0   \n",
       "\n",
       "   population  households  median_income  median_house_value ocean_proximity  \n",
       "0       322.0       126.0         8.3252            452600.0        NEAR BAY  \n",
       "1      2401.0      1138.0         8.3014            358500.0        NEAR BAY  \n",
       "2       496.0       177.0         7.2574            352100.0        NEAR BAY  \n",
       "3       558.0       219.0         5.6431            341300.0        NEAR BAY  \n",
       "4       565.0       259.0         3.8462            342200.0        NEAR BAY  "
      ]
     },
     "execution_count": 7,
     "metadata": {},
     "output_type": "execute_result"
    }
   ],
   "source": [
    "# display initial few entries of data set\n",
    "house_df.head()"
   ]
  },
  {
   "cell_type": "code",
   "execution_count": 8,
   "id": "71b0b784",
   "metadata": {},
   "outputs": [
    {
     "name": "stdout",
     "output_type": "stream",
     "text": [
      "<class 'pandas.core.frame.DataFrame'>\n",
      "RangeIndex: 20640 entries, 0 to 20639\n",
      "Data columns (total 10 columns):\n",
      " #   Column              Non-Null Count  Dtype  \n",
      "---  ------              --------------  -----  \n",
      " 0   longitude           20640 non-null  float64\n",
      " 1   latitude            20640 non-null  float64\n",
      " 2   housing_median_age  20640 non-null  float64\n",
      " 3   total_rooms         20640 non-null  float64\n",
      " 4   total_bedrooms      20433 non-null  float64\n",
      " 5   population          20640 non-null  float64\n",
      " 6   households          20640 non-null  float64\n",
      " 7   median_income       20640 non-null  float64\n",
      " 8   median_house_value  20640 non-null  float64\n",
      " 9   ocean_proximity     20640 non-null  object \n",
      "dtypes: float64(9), object(1)\n",
      "memory usage: 1.6+ MB\n"
     ]
    }
   ],
   "source": [
    "# Display Data information\n",
    "house_df.info()"
   ]
  },
  {
   "cell_type": "code",
   "execution_count": 9,
   "id": "61ea9b5c",
   "metadata": {
    "scrolled": true
   },
   "outputs": [
    {
     "data": {
      "text/html": [
       "<div>\n",
       "<style scoped>\n",
       "    .dataframe tbody tr th:only-of-type {\n",
       "        vertical-align: middle;\n",
       "    }\n",
       "\n",
       "    .dataframe tbody tr th {\n",
       "        vertical-align: top;\n",
       "    }\n",
       "\n",
       "    .dataframe thead th {\n",
       "        text-align: right;\n",
       "    }\n",
       "</style>\n",
       "<table border=\"1\" class=\"dataframe\">\n",
       "  <thead>\n",
       "    <tr style=\"text-align: right;\">\n",
       "      <th></th>\n",
       "      <th>longitude</th>\n",
       "      <th>latitude</th>\n",
       "      <th>housing_median_age</th>\n",
       "      <th>total_rooms</th>\n",
       "      <th>total_bedrooms</th>\n",
       "      <th>population</th>\n",
       "      <th>households</th>\n",
       "      <th>median_income</th>\n",
       "      <th>median_house_value</th>\n",
       "    </tr>\n",
       "  </thead>\n",
       "  <tbody>\n",
       "    <tr>\n",
       "      <th>count</th>\n",
       "      <td>20640.000000</td>\n",
       "      <td>20640.000000</td>\n",
       "      <td>20640.000000</td>\n",
       "      <td>20640.000000</td>\n",
       "      <td>20433.000000</td>\n",
       "      <td>20640.000000</td>\n",
       "      <td>20640.000000</td>\n",
       "      <td>20640.000000</td>\n",
       "      <td>20640.000000</td>\n",
       "    </tr>\n",
       "    <tr>\n",
       "      <th>mean</th>\n",
       "      <td>-119.569704</td>\n",
       "      <td>35.631861</td>\n",
       "      <td>28.639486</td>\n",
       "      <td>2635.763081</td>\n",
       "      <td>537.870553</td>\n",
       "      <td>1425.476744</td>\n",
       "      <td>499.539680</td>\n",
       "      <td>3.870671</td>\n",
       "      <td>206855.816909</td>\n",
       "    </tr>\n",
       "    <tr>\n",
       "      <th>std</th>\n",
       "      <td>2.003532</td>\n",
       "      <td>2.135952</td>\n",
       "      <td>12.585558</td>\n",
       "      <td>2181.615252</td>\n",
       "      <td>421.385070</td>\n",
       "      <td>1132.462122</td>\n",
       "      <td>382.329753</td>\n",
       "      <td>1.899822</td>\n",
       "      <td>115395.615874</td>\n",
       "    </tr>\n",
       "    <tr>\n",
       "      <th>min</th>\n",
       "      <td>-124.350000</td>\n",
       "      <td>32.540000</td>\n",
       "      <td>1.000000</td>\n",
       "      <td>2.000000</td>\n",
       "      <td>1.000000</td>\n",
       "      <td>3.000000</td>\n",
       "      <td>1.000000</td>\n",
       "      <td>0.499900</td>\n",
       "      <td>14999.000000</td>\n",
       "    </tr>\n",
       "    <tr>\n",
       "      <th>25%</th>\n",
       "      <td>-121.800000</td>\n",
       "      <td>33.930000</td>\n",
       "      <td>18.000000</td>\n",
       "      <td>1447.750000</td>\n",
       "      <td>296.000000</td>\n",
       "      <td>787.000000</td>\n",
       "      <td>280.000000</td>\n",
       "      <td>2.563400</td>\n",
       "      <td>119600.000000</td>\n",
       "    </tr>\n",
       "    <tr>\n",
       "      <th>50%</th>\n",
       "      <td>-118.490000</td>\n",
       "      <td>34.260000</td>\n",
       "      <td>29.000000</td>\n",
       "      <td>2127.000000</td>\n",
       "      <td>435.000000</td>\n",
       "      <td>1166.000000</td>\n",
       "      <td>409.000000</td>\n",
       "      <td>3.534800</td>\n",
       "      <td>179700.000000</td>\n",
       "    </tr>\n",
       "    <tr>\n",
       "      <th>75%</th>\n",
       "      <td>-118.010000</td>\n",
       "      <td>37.710000</td>\n",
       "      <td>37.000000</td>\n",
       "      <td>3148.000000</td>\n",
       "      <td>647.000000</td>\n",
       "      <td>1725.000000</td>\n",
       "      <td>605.000000</td>\n",
       "      <td>4.743250</td>\n",
       "      <td>264725.000000</td>\n",
       "    </tr>\n",
       "    <tr>\n",
       "      <th>max</th>\n",
       "      <td>-114.310000</td>\n",
       "      <td>41.950000</td>\n",
       "      <td>52.000000</td>\n",
       "      <td>39320.000000</td>\n",
       "      <td>6445.000000</td>\n",
       "      <td>35682.000000</td>\n",
       "      <td>6082.000000</td>\n",
       "      <td>15.000100</td>\n",
       "      <td>500001.000000</td>\n",
       "    </tr>\n",
       "  </tbody>\n",
       "</table>\n",
       "</div>"
      ],
      "text/plain": [
       "          longitude      latitude  housing_median_age   total_rooms  \\\n",
       "count  20640.000000  20640.000000        20640.000000  20640.000000   \n",
       "mean    -119.569704     35.631861           28.639486   2635.763081   \n",
       "std        2.003532      2.135952           12.585558   2181.615252   \n",
       "min     -124.350000     32.540000            1.000000      2.000000   \n",
       "25%     -121.800000     33.930000           18.000000   1447.750000   \n",
       "50%     -118.490000     34.260000           29.000000   2127.000000   \n",
       "75%     -118.010000     37.710000           37.000000   3148.000000   \n",
       "max     -114.310000     41.950000           52.000000  39320.000000   \n",
       "\n",
       "       total_bedrooms    population    households  median_income  \\\n",
       "count    20433.000000  20640.000000  20640.000000   20640.000000   \n",
       "mean       537.870553   1425.476744    499.539680       3.870671   \n",
       "std        421.385070   1132.462122    382.329753       1.899822   \n",
       "min          1.000000      3.000000      1.000000       0.499900   \n",
       "25%        296.000000    787.000000    280.000000       2.563400   \n",
       "50%        435.000000   1166.000000    409.000000       3.534800   \n",
       "75%        647.000000   1725.000000    605.000000       4.743250   \n",
       "max       6445.000000  35682.000000   6082.000000      15.000100   \n",
       "\n",
       "       median_house_value  \n",
       "count        20640.000000  \n",
       "mean        206855.816909  \n",
       "std         115395.615874  \n",
       "min          14999.000000  \n",
       "25%         119600.000000  \n",
       "50%         179700.000000  \n",
       "75%         264725.000000  \n",
       "max         500001.000000  "
      ]
     },
     "execution_count": 9,
     "metadata": {},
     "output_type": "execute_result"
    }
   ],
   "source": [
    "# Display statistical information\n",
    "house_df.describe()"
   ]
  },
  {
   "cell_type": "markdown",
   "id": "c23b9cd3",
   "metadata": {},
   "source": [
    "### Look at the median_house_value variable. Does it have a long tail?"
   ]
  },
  {
   "cell_type": "code",
   "execution_count": 10,
   "id": "21954c8d",
   "metadata": {},
   "outputs": [
    {
     "data": {
      "image/png": "[encoded data removed]",
      "text/plain": [
       "<Figure size 432x288 with 1 Axes>"
      ]
     },
     "metadata": {
      "needs_background": "light"
     },
     "output_type": "display_data"
    }
   ],
   "source": [
    "plt.figure(figsize=(6, 4))\n",
    "\n",
    "sns.histplot(house_df.median_house_value, bins=40, alpha=1)\n",
    "plt.ylabel('Frequency')\n",
    "plt.xlabel('Price')\n",
    "plt.title('Distribution of median_house_value in Housing Price Dataset')\n",
    "\n",
    "plt.show()"
   ]
  },
  {
   "cell_type": "markdown",
   "id": "3f339695",
   "metadata": {},
   "source": [
    "Observation: Based on the above plot, \"median_house_value\" distribution is skewed to the left  and no long tail observed"
   ]
  },
  {
   "cell_type": "code",
   "execution_count": 11,
   "id": "a88f1e92",
   "metadata": {},
   "outputs": [
    {
     "data": {
      "image/png": "[encoded data removed]",
      "text/plain": [
       "<Figure size 432x288 with 1 Axes>"
      ]
     },
     "metadata": {
      "needs_background": "light"
     },
     "output_type": "display_data"
    }
   ],
   "source": [
    "log_median_house_value = np.log1p(house_df.median_house_value)\n",
    "\n",
    "plt.figure(figsize=(6, 4))\n",
    "\n",
    "sns.histplot(log_median_house_value, bins=40, alpha=1)\n",
    "plt.ylabel('Frequency')\n",
    "plt.xlabel('Log(Price + 1)')\n",
    "plt.title('Distribution of median_house_value after log tranformation, in Housing Price Dataset')\n",
    "\n",
    "plt.show()"
   ]
  },
  {
   "cell_type": "markdown",
   "id": "77e4b9e3",
   "metadata": {},
   "source": [
    "Observation: Based on the above log plot, \"median_house_value\" distribution is normally distributed"
   ]
  },
  {
   "cell_type": "markdown",
   "id": "84c4290b",
   "metadata": {},
   "source": [
    "### Feature Selection"
   ]
  },
  {
   "cell_type": "markdown",
   "id": "8babf2af",
   "metadata": {},
   "source": [
    "For the rest of the homework, you'll need to use only these columns:\n",
    "\n",
    "'latitude',\n",
    "'longitude',\n",
    "'housing_median_age',\n",
    "'total_rooms',\n",
    "'total_bedrooms',\n",
    "'population',\n",
    "'households',\n",
    "'median_income',\n",
    "'median_house_value'\n",
    "Select only them."
   ]
  },
  {
   "cell_type": "code",
   "execution_count": 12,
   "id": "6fc41e00",
   "metadata": {},
   "outputs": [],
   "source": [
    "# Columns of interest\n",
    "selective_columns = [   'latitude',\n",
    "                        'longitude',\n",
    "                        'housing_median_age',\n",
    "                        'total_rooms',\n",
    "                        'total_bedrooms',\n",
    "                        'population',\n",
    "                        'households',\n",
    "                        'median_income',\n",
    "                        'median_house_value',\n",
    "                        'ocean_proximity']"
   ]
  },
  {
   "cell_type": "code",
   "execution_count": 13,
   "id": "ac0fd280",
   "metadata": {},
   "outputs": [],
   "source": [
    "# Filter selective columns\n",
    "house_sel_df = house_df [selective_columns]"
   ]
  },
  {
   "cell_type": "code",
   "execution_count": 14,
   "id": "cd6da32e",
   "metadata": {},
   "outputs": [
    {
     "data": {
      "text/html": [
       "<div>\n",
       "<style scoped>\n",
       "    .dataframe tbody tr th:only-of-type {\n",
       "        vertical-align: middle;\n",
       "    }\n",
       "\n",
       "    .dataframe tbody tr th {\n",
       "        vertical-align: top;\n",
       "    }\n",
       "\n",
       "    .dataframe thead th {\n",
       "        text-align: right;\n",
       "    }\n",
       "</style>\n",
       "<table border=\"1\" class=\"dataframe\">\n",
       "  <thead>\n",
       "    <tr style=\"text-align: right;\">\n",
       "      <th></th>\n",
       "      <th>latitude</th>\n",
       "      <th>longitude</th>\n",
       "      <th>housing_median_age</th>\n",
       "      <th>total_rooms</th>\n",
       "      <th>total_bedrooms</th>\n",
       "      <th>population</th>\n",
       "      <th>households</th>\n",
       "      <th>median_income</th>\n",
       "      <th>median_house_value</th>\n",
       "      <th>ocean_proximity</th>\n",
       "    </tr>\n",
       "  </thead>\n",
       "  <tbody>\n",
       "    <tr>\n",
       "      <th>0</th>\n",
       "      <td>37.88</td>\n",
       "      <td>-122.23</td>\n",
       "      <td>41.0</td>\n",
       "      <td>880.0</td>\n",
       "      <td>129.0</td>\n",
       "      <td>322.0</td>\n",
       "      <td>126.0</td>\n",
       "      <td>8.3252</td>\n",
       "      <td>452600.0</td>\n",
       "      <td>NEAR BAY</td>\n",
       "    </tr>\n",
       "    <tr>\n",
       "      <th>1</th>\n",
       "      <td>37.86</td>\n",
       "      <td>-122.22</td>\n",
       "      <td>21.0</td>\n",
       "      <td>7099.0</td>\n",
       "      <td>1106.0</td>\n",
       "      <td>2401.0</td>\n",
       "      <td>1138.0</td>\n",
       "      <td>8.3014</td>\n",
       "      <td>358500.0</td>\n",
       "      <td>NEAR BAY</td>\n",
       "    </tr>\n",
       "    <tr>\n",
       "      <th>2</th>\n",
       "      <td>37.85</td>\n",
       "      <td>-122.24</td>\n",
       "      <td>52.0</td>\n",
       "      <td>1467.0</td>\n",
       "      <td>190.0</td>\n",
       "      <td>496.0</td>\n",
       "      <td>177.0</td>\n",
       "      <td>7.2574</td>\n",
       "      <td>352100.0</td>\n",
       "      <td>NEAR BAY</td>\n",
       "    </tr>\n",
       "    <tr>\n",
       "      <th>3</th>\n",
       "      <td>37.85</td>\n",
       "      <td>-122.25</td>\n",
       "      <td>52.0</td>\n",
       "      <td>1274.0</td>\n",
       "      <td>235.0</td>\n",
       "      <td>558.0</td>\n",
       "      <td>219.0</td>\n",
       "      <td>5.6431</td>\n",
       "      <td>341300.0</td>\n",
       "      <td>NEAR BAY</td>\n",
       "    </tr>\n",
       "    <tr>\n",
       "      <th>4</th>\n",
       "      <td>37.85</td>\n",
       "      <td>-122.25</td>\n",
       "      <td>52.0</td>\n",
       "      <td>1627.0</td>\n",
       "      <td>280.0</td>\n",
       "      <td>565.0</td>\n",
       "      <td>259.0</td>\n",
       "      <td>3.8462</td>\n",
       "      <td>342200.0</td>\n",
       "      <td>NEAR BAY</td>\n",
       "    </tr>\n",
       "  </tbody>\n",
       "</table>\n",
       "</div>"
      ],
      "text/plain": [
       "   latitude  longitude  housing_median_age  total_rooms  total_bedrooms  \\\n",
       "0     37.88    -122.23                41.0        880.0           129.0   \n",
       "1     37.86    -122.22                21.0       7099.0          1106.0   \n",
       "2     37.85    -122.24                52.0       1467.0           190.0   \n",
       "3     37.85    -122.25                52.0       1274.0           235.0   \n",
       "4     37.85    -122.25                52.0       1627.0           280.0   \n",
       "\n",
       "   population  households  median_income  median_house_value ocean_proximity  \n",
       "0       322.0       126.0         8.3252            452600.0        NEAR BAY  \n",
       "1      2401.0      1138.0         8.3014            358500.0        NEAR BAY  \n",
       "2       496.0       177.0         7.2574            352100.0        NEAR BAY  \n",
       "3       558.0       219.0         5.6431            341300.0        NEAR BAY  \n",
       "4       565.0       259.0         3.8462            342200.0        NEAR BAY  "
      ]
     },
     "execution_count": 14,
     "metadata": {},
     "output_type": "execute_result"
    }
   ],
   "source": [
    "house_sel_df.head()"
   ]
  },
  {
   "cell_type": "markdown",
   "id": "93e5e446",
   "metadata": {},
   "source": [
    "# Data preparation"
   ]
  },
  {
   "cell_type": "raw",
   "id": "05d43cba",
   "metadata": {},
   "source": [
    "Select only the features from above and fill in the missing values with 0.\n",
    "Create a new column rooms_per_household by dividing the column total_rooms by the column households from dataframe.\n",
    "Create a new column bedrooms_per_room by dividing the column total_bedrooms by the column total_rooms from dataframe.\n",
    "Create a new column population_per_household by dividing the column population by the column households from dataframe."
   ]
  },
  {
   "cell_type": "code",
   "execution_count": 15,
   "id": "3ed79e9c",
   "metadata": {},
   "outputs": [
    {
     "data": {
      "text/plain": [
       "latitude                0\n",
       "longitude               0\n",
       "housing_median_age      0\n",
       "total_rooms             0\n",
       "total_bedrooms        207\n",
       "population              0\n",
       "households              0\n",
       "median_income           0\n",
       "median_house_value      0\n",
       "ocean_proximity         0\n",
       "dtype: int64"
      ]
     },
     "execution_count": 15,
     "metadata": {},
     "output_type": "execute_result"
    }
   ],
   "source": [
    "# Check for Features with missing values\n",
    "house_sel_df.isna().sum()"
   ]
  },
  {
   "cell_type": "code",
   "execution_count": 16,
   "id": "0de081c6",
   "metadata": {},
   "outputs": [],
   "source": [
    "# Select only the features from above and fill in the missing values with 0.\n",
    "house_sel_df['total_bedrooms']=house_sel_df.total_bedrooms.fillna(0)"
   ]
  },
  {
   "cell_type": "code",
   "execution_count": 17,
   "id": "3b60ae29",
   "metadata": {},
   "outputs": [
    {
     "data": {
      "text/plain": [
       "latitude              0\n",
       "longitude             0\n",
       "housing_median_age    0\n",
       "total_rooms           0\n",
       "total_bedrooms        0\n",
       "population            0\n",
       "households            0\n",
       "median_income         0\n",
       "median_house_value    0\n",
       "ocean_proximity       0\n",
       "dtype: int64"
      ]
     },
     "execution_count": 17,
     "metadata": {},
     "output_type": "execute_result"
    }
   ],
   "source": [
    "# Check for Features with missing values, after filling missing values with 0.\n",
    "house_sel_df.isna().sum()"
   ]
  },
  {
   "cell_type": "code",
   "execution_count": 18,
   "id": "f17cba57",
   "metadata": {},
   "outputs": [],
   "source": [
    "#Create a new column rooms_per_household by dividing the column total_rooms by the column households from dataframe.\n",
    "house_sel_df['rooms_per_household']=house_sel_df.total_rooms / house_sel_df.households"
   ]
  },
  {
   "cell_type": "code",
   "execution_count": 19,
   "id": "2874d06d",
   "metadata": {},
   "outputs": [],
   "source": [
    "#Create a new column bedrooms_per_room by dividing the column total_bedrooms by the column total_rooms from dataframe.\n",
    "house_sel_df['bedrooms_per_room']=house_sel_df.total_bedrooms / house_sel_df.total_rooms"
   ]
  },
  {
   "cell_type": "code",
   "execution_count": 20,
   "id": "ee3f9439",
   "metadata": {},
   "outputs": [],
   "source": [
    "#Create a new column population_per_household by dividing the column population by the column households from dataframe.\n",
    "house_sel_df['population_per_household']=house_sel_df.population / house_sel_df.households"
   ]
  },
  {
   "cell_type": "markdown",
   "id": "b159e057",
   "metadata": {},
   "source": [
    "### Question 1: What is the most frequent observation (mode) for the column ocean_proximity?"
   ]
  },
  {
   "cell_type": "code",
   "execution_count": 21,
   "id": "97940360",
   "metadata": {},
   "outputs": [
    {
     "name": "stdout",
     "output_type": "stream",
     "text": [
      "Q1 Answer --> most frequent observation (mode) for the column ocean_proximity =  0    <1H OCEAN\n",
      "Name: ocean_proximity, dtype: object\n"
     ]
    }
   ],
   "source": [
    "mode = house_sel_df['ocean_proximity'].mode()\n",
    "print(\"Q1 Answer --> most frequent observation (mode) for the column ocean_proximity = \", mode)"
   ]
  },
  {
   "cell_type": "markdown",
   "id": "1e223626",
   "metadata": {},
   "source": [
    "### Question 2: What are the two features that have the biggest correlation in this dataset?"
   ]
  },
  {
   "cell_type": "raw",
   "id": "44404547",
   "metadata": {},
   "source": [
    "Create the correlation matrix for the numerical features of your train dataset.\n",
    "In a correlation matrix, you compute the correlation coefficient between every pair of features in the dataset.\n",
    "What are the two features that have the biggest correlation in this dataset?"
   ]
  },
  {
   "cell_type": "code",
   "execution_count": 22,
   "id": "55a3e854",
   "metadata": {},
   "outputs": [
    {
     "data": {
      "text/html": [
       "<div>\n",
       "<style scoped>\n",
       "    .dataframe tbody tr th:only-of-type {\n",
       "        vertical-align: middle;\n",
       "    }\n",
       "\n",
       "    .dataframe tbody tr th {\n",
       "        vertical-align: top;\n",
       "    }\n",
       "\n",
       "    .dataframe thead th {\n",
       "        text-align: right;\n",
       "    }\n",
       "</style>\n",
       "<table border=\"1\" class=\"dataframe\">\n",
       "  <thead>\n",
       "    <tr style=\"text-align: right;\">\n",
       "      <th></th>\n",
       "      <th>latitude</th>\n",
       "      <th>longitude</th>\n",
       "      <th>housing_median_age</th>\n",
       "      <th>total_rooms</th>\n",
       "      <th>total_bedrooms</th>\n",
       "      <th>population</th>\n",
       "      <th>households</th>\n",
       "      <th>median_income</th>\n",
       "      <th>median_house_value</th>\n",
       "      <th>rooms_per_household</th>\n",
       "      <th>bedrooms_per_room</th>\n",
       "      <th>population_per_household</th>\n",
       "    </tr>\n",
       "  </thead>\n",
       "  <tbody>\n",
       "    <tr>\n",
       "      <th>count</th>\n",
       "      <td>20640.000000</td>\n",
       "      <td>20640.000000</td>\n",
       "      <td>20640.000000</td>\n",
       "      <td>20640.000000</td>\n",
       "      <td>20640.000000</td>\n",
       "      <td>20640.000000</td>\n",
       "      <td>20640.000000</td>\n",
       "      <td>20640.000000</td>\n",
       "      <td>20640.000000</td>\n",
       "      <td>20640.000000</td>\n",
       "      <td>20640.000000</td>\n",
       "      <td>20640.000000</td>\n",
       "    </tr>\n",
       "    <tr>\n",
       "      <th>mean</th>\n",
       "      <td>35.631861</td>\n",
       "      <td>-119.569704</td>\n",
       "      <td>28.639486</td>\n",
       "      <td>2635.763081</td>\n",
       "      <td>532.476211</td>\n",
       "      <td>1425.476744</td>\n",
       "      <td>499.539680</td>\n",
       "      <td>3.870671</td>\n",
       "      <td>206855.816909</td>\n",
       "      <td>5.429000</td>\n",
       "      <td>0.210902</td>\n",
       "      <td>3.070655</td>\n",
       "    </tr>\n",
       "    <tr>\n",
       "      <th>std</th>\n",
       "      <td>2.135952</td>\n",
       "      <td>2.003532</td>\n",
       "      <td>12.585558</td>\n",
       "      <td>2181.615252</td>\n",
       "      <td>422.678333</td>\n",
       "      <td>1132.462122</td>\n",
       "      <td>382.329753</td>\n",
       "      <td>1.899822</td>\n",
       "      <td>115395.615874</td>\n",
       "      <td>2.474173</td>\n",
       "      <td>0.061473</td>\n",
       "      <td>10.386050</td>\n",
       "    </tr>\n",
       "    <tr>\n",
       "      <th>min</th>\n",
       "      <td>32.540000</td>\n",
       "      <td>-124.350000</td>\n",
       "      <td>1.000000</td>\n",
       "      <td>2.000000</td>\n",
       "      <td>0.000000</td>\n",
       "      <td>3.000000</td>\n",
       "      <td>1.000000</td>\n",
       "      <td>0.499900</td>\n",
       "      <td>14999.000000</td>\n",
       "      <td>0.846154</td>\n",
       "      <td>0.000000</td>\n",
       "      <td>0.692308</td>\n",
       "    </tr>\n",
       "    <tr>\n",
       "      <th>25%</th>\n",
       "      <td>33.930000</td>\n",
       "      <td>-121.800000</td>\n",
       "      <td>18.000000</td>\n",
       "      <td>1447.750000</td>\n",
       "      <td>292.000000</td>\n",
       "      <td>787.000000</td>\n",
       "      <td>280.000000</td>\n",
       "      <td>2.563400</td>\n",
       "      <td>119600.000000</td>\n",
       "      <td>4.440716</td>\n",
       "      <td>0.174539</td>\n",
       "      <td>2.429741</td>\n",
       "    </tr>\n",
       "    <tr>\n",
       "      <th>50%</th>\n",
       "      <td>34.260000</td>\n",
       "      <td>-118.490000</td>\n",
       "      <td>29.000000</td>\n",
       "      <td>2127.000000</td>\n",
       "      <td>431.000000</td>\n",
       "      <td>1166.000000</td>\n",
       "      <td>409.000000</td>\n",
       "      <td>3.534800</td>\n",
       "      <td>179700.000000</td>\n",
       "      <td>5.229129</td>\n",
       "      <td>0.202626</td>\n",
       "      <td>2.818116</td>\n",
       "    </tr>\n",
       "    <tr>\n",
       "      <th>75%</th>\n",
       "      <td>37.710000</td>\n",
       "      <td>-118.010000</td>\n",
       "      <td>37.000000</td>\n",
       "      <td>3148.000000</td>\n",
       "      <td>643.250000</td>\n",
       "      <td>1725.000000</td>\n",
       "      <td>605.000000</td>\n",
       "      <td>4.743250</td>\n",
       "      <td>264725.000000</td>\n",
       "      <td>6.052381</td>\n",
       "      <td>0.239273</td>\n",
       "      <td>3.282261</td>\n",
       "    </tr>\n",
       "    <tr>\n",
       "      <th>max</th>\n",
       "      <td>41.950000</td>\n",
       "      <td>-114.310000</td>\n",
       "      <td>52.000000</td>\n",
       "      <td>39320.000000</td>\n",
       "      <td>6445.000000</td>\n",
       "      <td>35682.000000</td>\n",
       "      <td>6082.000000</td>\n",
       "      <td>15.000100</td>\n",
       "      <td>500001.000000</td>\n",
       "      <td>141.909091</td>\n",
       "      <td>1.000000</td>\n",
       "      <td>1243.333333</td>\n",
       "    </tr>\n",
       "  </tbody>\n",
       "</table>\n",
       "</div>"
      ],
      "text/plain": [
       "           latitude     longitude  housing_median_age   total_rooms  \\\n",
       "count  20640.000000  20640.000000        20640.000000  20640.000000   \n",
       "mean      35.631861   -119.569704           28.639486   2635.763081   \n",
       "std        2.135952      2.003532           12.585558   2181.615252   \n",
       "min       32.540000   -124.350000            1.000000      2.000000   \n",
       "25%       33.930000   -121.800000           18.000000   1447.750000   \n",
       "50%       34.260000   -118.490000           29.000000   2127.000000   \n",
       "75%       37.710000   -118.010000           37.000000   3148.000000   \n",
       "max       41.950000   -114.310000           52.000000  39320.000000   \n",
       "\n",
       "       total_bedrooms    population    households  median_income  \\\n",
       "count    20640.000000  20640.000000  20640.000000   20640.000000   \n",
       "mean       532.476211   1425.476744    499.539680       3.870671   \n",
       "std        422.678333   1132.462122    382.329753       1.899822   \n",
       "min          0.000000      3.000000      1.000000       0.499900   \n",
       "25%        292.000000    787.000000    280.000000       2.563400   \n",
       "50%        431.000000   1166.000000    409.000000       3.534800   \n",
       "75%        643.250000   1725.000000    605.000000       4.743250   \n",
       "max       6445.000000  35682.000000   6082.000000      15.000100   \n",
       "\n",
       "       median_house_value  rooms_per_household  bedrooms_per_room  \\\n",
       "count        20640.000000         20640.000000       20640.000000   \n",
       "mean        206855.816909             5.429000           0.210902   \n",
       "std         115395.615874             2.474173           0.061473   \n",
       "min          14999.000000             0.846154           0.000000   \n",
       "25%         119600.000000             4.440716           0.174539   \n",
       "50%         179700.000000             5.229129           0.202626   \n",
       "75%         264725.000000             6.052381           0.239273   \n",
       "max         500001.000000           141.909091           1.000000   \n",
       "\n",
       "       population_per_household  \n",
       "count              20640.000000  \n",
       "mean                   3.070655  \n",
       "std                   10.386050  \n",
       "min                    0.692308  \n",
       "25%                    2.429741  \n",
       "50%                    2.818116  \n",
       "75%                    3.282261  \n",
       "max                 1243.333333  "
      ]
     },
     "execution_count": 22,
     "metadata": {},
     "output_type": "execute_result"
    }
   ],
   "source": [
    "# Display statistical information\n",
    "house_sel_df.describe()"
   ]
  },
  {
   "cell_type": "code",
   "execution_count": 23,
   "id": "9275b1b8",
   "metadata": {},
   "outputs": [
    {
     "name": "stdout",
     "output_type": "stream",
     "text": [
      "There are 20640 records and 13 columns in the Housing dataset\n"
     ]
    }
   ],
   "source": [
    "nRow, nColumn = house_sel_df.shape\n",
    "print(f'There are {nRow} records and {nColumn} columns in the Housing dataset')"
   ]
  },
  {
   "cell_type": "code",
   "execution_count": 24,
   "id": "e5afc410",
   "metadata": {},
   "outputs": [
    {
     "data": {
      "text/plain": [
       "<AxesSubplot:>"
      ]
     },
     "execution_count": 24,
     "metadata": {},
     "output_type": "execute_result"
    },
    {
     "data": {
      "image/png": "[encoded data removed]",
      "text/plain": [
       "<Figure size 576x576 with 2 Axes>"
      ]
     },
     "metadata": {
      "needs_background": "light"
     },
     "output_type": "display_data"
    }
   ],
   "source": [
    "fig, ax = plt.subplots(figsize = (8,8))\n",
    "sns.heatmap(house_sel_df.corr(),annot=True, annot_kws = {\"size\":9})"
   ]
  },
  {
   "cell_type": "code",
   "execution_count": 25,
   "id": "da010b46",
   "metadata": {},
   "outputs": [
    {
     "data": {
      "text/plain": [
       "latitude                  latitude                    1.000000\n",
       "longitude                 longitude                   1.000000\n",
       "bedrooms_per_room         bedrooms_per_room           1.000000\n",
       "rooms_per_household       rooms_per_household         1.000000\n",
       "median_house_value        median_house_value          1.000000\n",
       "median_income             median_income               1.000000\n",
       "households                households                  1.000000\n",
       "population                population                  1.000000\n",
       "total_bedrooms            total_bedrooms              1.000000\n",
       "total_rooms               total_rooms                 1.000000\n",
       "housing_median_age        housing_median_age          1.000000\n",
       "population_per_household  population_per_household    1.000000\n",
       "households                total_bedrooms              0.966507\n",
       "total_bedrooms            households                  0.966507\n",
       "total_rooms               total_bedrooms              0.920196\n",
       "total_bedrooms            total_rooms                 0.920196\n",
       "total_rooms               households                  0.918484\n",
       "households                total_rooms                 0.918484\n",
       "                          population                  0.907222\n",
       "population                households                  0.907222\n",
       "                          total_bedrooms              0.866266\n",
       "total_bedrooms            population                  0.866266\n",
       "population                total_rooms                 0.857126\n",
       "total_rooms               population                  0.857126\n",
       "median_income             median_house_value          0.688075\n",
       "median_house_value        median_income               0.688075\n",
       "rooms_per_household       median_income               0.326895\n",
       "median_income             rooms_per_household         0.326895\n",
       "total_rooms               median_income               0.198050\n",
       "median_income             total_rooms                 0.198050\n",
       "median_house_value        rooms_per_household         0.151948\n",
       "rooms_per_household       median_house_value          0.151948\n",
       "total_rooms               median_house_value          0.134153\n",
       "median_house_value        total_rooms                 0.134153\n",
       "total_rooms               rooms_per_household         0.133798\n",
       "rooms_per_household       total_rooms                 0.133798\n",
       "housing_median_age        bedrooms_per_room           0.125396\n",
       "bedrooms_per_room         housing_median_age          0.125396\n",
       "total_bedrooms            bedrooms_per_room           0.122205\n",
       "bedrooms_per_room         total_bedrooms              0.122205\n",
       "rooms_per_household       latitude                    0.106389\n",
       "latitude                  rooms_per_household         0.106389\n",
       "housing_median_age        median_house_value          0.105623\n",
       "median_house_value        housing_median_age          0.105623\n",
       "population                longitude                   0.099773\n",
       "longitude                 population                  0.099773\n",
       "bedrooms_per_room         longitude                   0.084836\n",
       "longitude                 bedrooms_per_room           0.084836\n",
       "population                population_per_household    0.069863\n",
       "population_per_household  population                  0.069863\n",
       "longitude                 total_bedrooms              0.068082\n",
       "total_bedrooms            longitude                   0.068082\n",
       "households                median_house_value          0.065843\n",
       "median_house_value        households                  0.065843\n",
       "bedrooms_per_room         households                  0.059818\n",
       "households                bedrooms_per_room           0.059818\n",
       "longitude                 households                  0.055310\n",
       "households                longitude                   0.055310\n",
       "total_bedrooms            median_house_value          0.049148\n",
       "median_house_value        total_bedrooms              0.049148\n",
       "total_rooms               longitude                   0.044568\n",
       "longitude                 total_rooms                 0.044568\n",
       "population                bedrooms_per_room           0.031397\n",
       "bedrooms_per_room         population                  0.031397\n",
       "population_per_household  median_income               0.018766\n",
       "median_income             population_per_household    0.018766\n",
       "housing_median_age        population_per_household    0.013191\n",
       "population_per_household  housing_median_age          0.013191\n",
       "median_income             households                  0.013033\n",
       "households                median_income               0.013033\n",
       "housing_median_age        latitude                    0.011173\n",
       "latitude                  housing_median_age          0.011173\n",
       "population                median_income               0.004834\n",
       "median_income             population                  0.004834\n",
       "population_per_household  bedrooms_per_room           0.003047\n",
       "bedrooms_per_room         population_per_household    0.003047\n",
       "rooms_per_household       total_bedrooms              0.002717\n",
       "total_bedrooms            rooms_per_household         0.002717\n",
       "population_per_household  longitude                   0.002476\n",
       "longitude                 population_per_household    0.002476\n",
       "population_per_household  latitude                    0.002366\n",
       "latitude                  population_per_household    0.002366\n",
       "rooms_per_household       population_per_household   -0.004852\n",
       "population_per_household  rooms_per_household        -0.004852\n",
       "median_income             total_bedrooms             -0.007295\n",
       "total_bedrooms            median_income              -0.007295\n",
       "median_income             longitude                  -0.015176\n",
       "longitude                 median_income              -0.015176\n",
       "median_house_value        population_per_household   -0.023737\n",
       "population_per_household  median_house_value         -0.023737\n",
       "                          total_rooms                -0.024581\n",
       "total_rooms               population_per_household   -0.024581\n",
       "population                median_house_value         -0.024650\n",
       "median_house_value        population                 -0.024650\n",
       "households                population_per_household   -0.027309\n",
       "population_per_household  households                 -0.027309\n",
       "longitude                 rooms_per_household        -0.027540\n",
       "rooms_per_household       longitude                  -0.027540\n",
       "total_bedrooms            population_per_household   -0.028019\n",
       "population_per_household  total_bedrooms             -0.028019\n",
       "latitude                  total_rooms                -0.036100\n",
       "total_rooms               latitude                   -0.036100\n",
       "median_house_value        longitude                  -0.045967\n",
       "longitude                 median_house_value         -0.045967\n",
       "total_bedrooms            latitude                   -0.065318\n",
       "latitude                  total_bedrooms             -0.065318\n",
       "                          households                 -0.071035\n",
       "households                latitude                   -0.071035\n",
       "population                rooms_per_household        -0.072213\n",
       "rooms_per_household       population                 -0.072213\n",
       "latitude                  median_income              -0.079809\n",
       "median_income             latitude                   -0.079809\n",
       "rooms_per_household       households                 -0.080598\n",
       "households                rooms_per_household        -0.080598\n",
       "latitude                  bedrooms_per_room          -0.104112\n",
       "bedrooms_per_room         latitude                   -0.104112\n",
       "housing_median_age        longitude                  -0.108197\n",
       "longitude                 housing_median_age         -0.108197\n",
       "population                latitude                   -0.108785\n",
       "latitude                  population                 -0.108785\n",
       "median_income             housing_median_age         -0.119034\n",
       "housing_median_age        median_income              -0.119034\n",
       "latitude                  median_house_value         -0.144160\n",
       "median_house_value        latitude                   -0.144160\n",
       "rooms_per_household       housing_median_age         -0.153277\n",
       "housing_median_age        rooms_per_household        -0.153277\n",
       "bedrooms_per_room         total_rooms                -0.174583\n",
       "total_rooms               bedrooms_per_room          -0.174583\n",
       "median_house_value        bedrooms_per_room          -0.238759\n",
       "bedrooms_per_room         median_house_value         -0.238759\n",
       "population                housing_median_age         -0.296244\n",
       "housing_median_age        population                 -0.296244\n",
       "                          households                 -0.302916\n",
       "households                housing_median_age         -0.302916\n",
       "total_bedrooms            housing_median_age         -0.317063\n",
       "housing_median_age        total_bedrooms             -0.317063\n",
       "total_rooms               housing_median_age         -0.361262\n",
       "housing_median_age        total_rooms                -0.361262\n",
       "bedrooms_per_room         rooms_per_household        -0.387465\n",
       "rooms_per_household       bedrooms_per_room          -0.387465\n",
       "bedrooms_per_room         median_income              -0.573836\n",
       "median_income             bedrooms_per_room          -0.573836\n",
       "latitude                  longitude                  -0.924664\n",
       "longitude                 latitude                   -0.924664\n",
       "dtype: float64"
      ]
     },
     "execution_count": 25,
     "metadata": {},
     "output_type": "execute_result"
    }
   ],
   "source": [
    "pd.set_option('display.max_rows', None)\n",
    "house_sel_df.corr().unstack().sort_values(ascending = False)"
   ]
  },
  {
   "cell_type": "code",
   "execution_count": 26,
   "id": "1ad9baf8",
   "metadata": {},
   "outputs": [
    {
     "name": "stdout",
     "output_type": "stream",
     "text": [
      "Q2 Answer --> two features that have the biggest correlation in this dataset =  total_bedrooms and households \n"
     ]
    }
   ],
   "source": [
    "print(\"Q2 Answer --> two features that have the biggest correlation in this dataset =  total_bedrooms and households \")"
   ]
  },
  {
   "cell_type": "markdown",
   "id": "ed62252f",
   "metadata": {},
   "source": [
    "### Make median_house_value binary\n",
    "We need to turn the median_house_value variable from numeric into binary.\n",
    "Let's create a variable above_average which is 1 if the median_house_value is above its mean value and 0 otherwise."
   ]
  },
  {
   "cell_type": "code",
   "execution_count": 27,
   "id": "d7833c3c",
   "metadata": {},
   "outputs": [],
   "source": [
    "house_data  = house_sel_df.copy()\n",
    "mean = house_data['median_house_value'].mean()\n",
    "\n",
    "house_data['above_average'] = np.where(house_data['median_house_value']>=mean,1,0)"
   ]
  },
  {
   "cell_type": "markdown",
   "id": "57672a8d",
   "metadata": {},
   "source": [
    "## Split the data"
   ]
  },
  {
   "cell_type": "raw",
   "id": "810e8aa0",
   "metadata": {},
   "source": [
    "Split your data in train/val/test sets, with 60%/20%/20% distribution.\n",
    "Use Scikit-Learn for that (the train_test_split function) and set the seed to 42.\n",
    "Make sure that the target value (median_house_value) is not in your dataframe."
   ]
  },
  {
   "cell_type": "code",
   "execution_count": 28,
   "id": "16d287f8",
   "metadata": {},
   "outputs": [
    {
     "name": "stdout",
     "output_type": "stream",
     "text": [
      " Length of Training, Validation, Test Data sets are 12384 ,4128 ,4128\n"
     ]
    }
   ],
   "source": [
    "\n",
    "# Split Hosuing data in train:val:test set in the ratio: 60%:20%:20% \n",
    "df_full_train, df_test = train_test_split(house_data, test_size=0.20, random_state=42)\n",
    "df_train, df_val = train_test_split(df_full_train, test_size=0.25, random_state=42)\n",
    "\n",
    "# Reser all Index\n",
    "df_train = df_train.reset_index(drop=True)\n",
    "df_val = df_val.reset_index(drop=True)\n",
    "df_test = df_test.reset_index(drop=True)\n",
    "print(f' Length of Training, Validation, Test Data sets are {len(df_train)} ,{len(df_val)} ,{len(df_test)}')"
   ]
  },
  {
   "cell_type": "markdown",
   "id": "521c043c",
   "metadata": {},
   "source": [
    "## Question 3"
   ]
  },
  {
   "cell_type": "raw",
   "id": "6598ef5e",
   "metadata": {},
   "source": [
    "Calculate the mutual information score between above_average and ocean_proximity . Use the training set only.\n",
    "Round it to 2 decimals using round(score, 2)\n",
    "What is their mutual information score?"
   ]
  },
  {
   "cell_type": "code",
   "execution_count": 29,
   "id": "9bffeef2",
   "metadata": {},
   "outputs": [
    {
     "name": "stdout",
     "output_type": "stream",
     "text": [
      "Q3 Answer --> mutual information score score between above_average and ocean_proximity is: 0.10138385763624205 / 0.1 \n"
     ]
    }
   ],
   "source": [
    "mis = mutual_info_score(df_train.above_average, df_train.ocean_proximity)\n",
    "print(f\"Q3 Answer --> mutual information score score between above_average and ocean_proximity is: {mis} / {round(mis,2)} \" )"
   ]
  },
  {
   "cell_type": "markdown",
   "id": "f22aae0e",
   "metadata": {},
   "source": [
    "## Question 4"
   ]
  },
  {
   "cell_type": "raw",
   "id": "9ed9f010",
   "metadata": {},
   "source": [
    "Now let's train a logistic regression\n",
    "Remember that we have one categorical variable ocean_proximity in the data. Include it using one-hot encoding.\n",
    "Fit the model on the training dataset.\n",
    "To make sure the results are reproducible across different versions of Scikit-Learn, fit the model with these parameters:\n",
    "model = LogisticRegression(solver=\"liblinear\", C=1.0, max_iter=1000, random_state=42)\n",
    "Calculate the accuracy on the validation dataset and round it to 2 decimal digits."
   ]
  },
  {
   "cell_type": "code",
   "execution_count": 30,
   "id": "86b9bca0",
   "metadata": {},
   "outputs": [],
   "source": [
    "from sklearn.feature_extraction import DictVectorizer\n",
    "# Select target value (median_house_value)\n",
    "y_train = df_train.above_average.values\n",
    "y_val = df_val.above_average.values\n",
    "y_test = df_test.above_average.values"
   ]
  },
  {
   "cell_type": "code",
   "execution_count": 31,
   "id": "4d4d2aa1",
   "metadata": {},
   "outputs": [],
   "source": [
    "df_train = df_train.drop(['median_house_value', 'above_average'], axis=1)\n",
    "df_val= df_val.drop(['median_house_value', 'above_average'], axis=1)\n",
    "df_test = df_test.drop(['median_house_value', 'above_average'], axis=1)"
   ]
  },
  {
   "cell_type": "code",
   "execution_count": 32,
   "id": "a7fb13ff",
   "metadata": {},
   "outputs": [],
   "source": [
    "# One-hot encoding\n",
    "\n",
    "dv = DictVectorizer(sparse=False)\n",
    "\n",
    "train_dict = df_train.to_dict(orient='records')\n",
    "val_dict = df_val.to_dict(orient='records')\n",
    "test_dict = df_test.to_dict(orient='records')\n",
    "\n",
    "dv.fit(train_dict)\n",
    "\n",
    "X_train = dv.transform(train_dict)\n",
    "X_val = dv.transform(val_dict)\n",
    "X_test = dv.transform(test_dict)"
   ]
  },
  {
   "cell_type": "code",
   "execution_count": 33,
   "id": "3513a8d3",
   "metadata": {},
   "outputs": [],
   "source": [
    "from sklearn.linear_model import LogisticRegression\n",
    "from sklearn.metrics import accuracy_score"
   ]
  },
  {
   "cell_type": "code",
   "execution_count": 34,
   "id": "71ee4af3",
   "metadata": {},
   "outputs": [
    {
     "data": {
      "text/html": [
       "<style>#sk-container-id-1 {color: black;background-color: white;}#sk-container-id-1 pre{padding: 0;}#sk-container-id-1 div.sk-toggleable {background-color: white;}#sk-container-id-1 label.sk-toggleable__label {cursor: pointer;display: block;width: 100%;margin-bottom: 0;padding: 0.3em;box-sizing: border-box;text-align: center;}#sk-container-id-1 label.sk-toggleable__label-arrow:before {content: \"▸\";float: left;margin-right: 0.25em;color: #696969;}#sk-container-id-1 label.sk-toggleable__label-arrow:hover:before {color: black;}#sk-container-id-1 div.sk-estimator:hover label.sk-toggleable__label-arrow:before {color: black;}#sk-container-id-1 div.sk-toggleable__content {max-height: 0;max-width: 0;overflow: hidden;text-align: left;background-color: #f0f8ff;}#sk-container-id-1 div.sk-toggleable__content pre {margin: 0.2em;color: black;border-radius: 0.25em;background-color: #f0f8ff;}#sk-container-id-1 input.sk-toggleable__control:checked~div.sk-toggleable__content {max-height: 200px;max-width: 100%;overflow: auto;}#sk-container-id-1 input.sk-toggleable__control:checked~label.sk-toggleable__label-arrow:before {content: \"▾\";}#sk-container-id-1 div.sk-estimator input.sk-toggleable__control:checked~label.sk-toggleable__label {background-color: #d4ebff;}#sk-container-id-1 div.sk-label input.sk-toggleable__control:checked~label.sk-toggleable__label {background-color: #d4ebff;}#sk-container-id-1 input.sk-hidden--visually {border: 0;clip: rect(1px 1px 1px 1px);clip: rect(1px, 1px, 1px, 1px);height: 1px;margin: -1px;overflow: hidden;padding: 0;position: absolute;width: 1px;}#sk-container-id-1 div.sk-estimator {font-family: monospace;background-color: #f0f8ff;border: 1px dotted black;border-radius: 0.25em;box-sizing: border-box;margin-bottom: 0.5em;}#sk-container-id-1 div.sk-estimator:hover {background-color: #d4ebff;}#sk-container-id-1 div.sk-parallel-item::after {content: \"\";width: 100%;border-bottom: 1px solid gray;flex-grow: 1;}#sk-container-id-1 div.sk-label:hover label.sk-toggleable__label {background-color: #d4ebff;}#sk-container-id-1 div.sk-serial::before {content: \"\";position: absolute;border-left: 1px solid gray;box-sizing: border-box;top: 0;bottom: 0;left: 50%;z-index: 0;}#sk-container-id-1 div.sk-serial {display: flex;flex-direction: column;align-items: center;background-color: white;padding-right: 0.2em;padding-left: 0.2em;position: relative;}#sk-container-id-1 div.sk-item {position: relative;z-index: 1;}#sk-container-id-1 div.sk-parallel {display: flex;align-items: stretch;justify-content: center;background-color: white;position: relative;}#sk-container-id-1 div.sk-item::before, #sk-container-id-1 div.sk-parallel-item::before {content: \"\";position: absolute;border-left: 1px solid gray;box-sizing: border-box;top: 0;bottom: 0;left: 50%;z-index: -1;}#sk-container-id-1 div.sk-parallel-item {display: flex;flex-direction: column;z-index: 1;position: relative;background-color: white;}#sk-container-id-1 div.sk-parallel-item:first-child::after {align-self: flex-end;width: 50%;}#sk-container-id-1 div.sk-parallel-item:last-child::after {align-self: flex-start;width: 50%;}#sk-container-id-1 div.sk-parallel-item:only-child::after {width: 0;}#sk-container-id-1 div.sk-dashed-wrapped {border: 1px dashed gray;margin: 0 0.4em 0.5em 0.4em;box-sizing: border-box;padding-bottom: 0.4em;background-color: white;}#sk-container-id-1 div.sk-label label {font-family: monospace;font-weight: bold;display: inline-block;line-height: 1.2em;}#sk-container-id-1 div.sk-label-container {text-align: center;}#sk-container-id-1 div.sk-container {/* jupyter's `normalize.less` sets `[hidden] { display: none; }` but bootstrap.min.css set `[hidden] { display: none !important; }` so we also need the `!important` here to be able to override the default hidden behavior on the sphinx rendered scikit-learn.org. See: https://github.com/scikit-learn/scikit-learn/issues/21755 */display: inline-block !important;position: relative;}#sk-container-id-1 div.sk-text-repr-fallback {display: none;}</style><div id=\"sk-container-id-1\" class=\"sk-top-container\"><div class=\"sk-text-repr-fallback\"><pre>LogisticRegression(max_iter=1000, random_state=42, solver=&#x27;liblinear&#x27;)</pre><b>In a Jupyter environment, please rerun this cell to show the HTML representation or trust the notebook. <br />On GitHub, the HTML representation is unable to render, please try loading this page with nbviewer.org.</b></div><div class=\"sk-container\" hidden><div class=\"sk-item\"><div class=\"sk-estimator sk-toggleable\"><input class=\"sk-toggleable__control sk-hidden--visually\" id=\"sk-estimator-id-1\" type=\"checkbox\" checked><label for=\"sk-estimator-id-1\" class=\"sk-toggleable__label sk-toggleable__label-arrow\">LogisticRegression</label><div class=\"sk-toggleable__content\"><pre>LogisticRegression(max_iter=1000, random_state=42, solver=&#x27;liblinear&#x27;)</pre></div></div></div></div></div>"
      ],
      "text/plain": [
       "LogisticRegression(max_iter=1000, random_state=42, solver='liblinear')"
      ]
     },
     "execution_count": 34,
     "metadata": {},
     "output_type": "execute_result"
    }
   ],
   "source": [
    "model = LogisticRegression(solver=\"liblinear\", C=1.0, max_iter=1000, random_state=42)\n",
    "model.fit(X_train, y_train)"
   ]
  },
  {
   "cell_type": "code",
   "execution_count": 35,
   "id": "a65f4e23",
   "metadata": {},
   "outputs": [
    {
     "name": "stdout",
     "output_type": "stream",
     "text": [
      "Q4 Answer --> accuracy on the validation dataset and round it to 2 decimal digits: 0.8364825581395349 / 0.84 \n"
     ]
    }
   ],
   "source": [
    "accuracy = model.score(X_val, y_val)\n",
    "print(f\"Q4 Answer --> accuracy on the validation dataset and round it to 2 decimal digits: {accuracy} / {round(accuracy,2)} \" )"
   ]
  },
  {
   "cell_type": "markdown",
   "id": "dfa697e4",
   "metadata": {},
   "source": [
    "## Question 5"
   ]
  },
  {
   "cell_type": "raw",
   "id": "317a444f",
   "metadata": {},
   "source": [
    "Let's find the least useful feature using the feature elimination technique.\n",
    "Train a model with all these features (using the same parameters as in Q4).\n",
    "Now exclude each feature from this set and train a model without it. Record the accuracy for each model.\n",
    "For each feature, calculate the difference between the original accuracy and the accuracy without the feature.\n",
    "Which of following feature has the smallest difference?\n",
    "total_rooms\n",
    "total_bedrooms\n",
    "population\n",
    "households\n",
    "Note: the difference doesn't have to be positive"
   ]
  },
  {
   "cell_type": "code",
   "execution_count": 36,
   "id": "64404ffe",
   "metadata": {},
   "outputs": [
    {
     "data": {
      "text/plain": [
       "{'bedrooms_per_room': 0.341,\n",
       " 'households': 0.004,\n",
       " 'housing_median_age': 0.036,\n",
       " 'latitude': 0.13,\n",
       " 'longitude': 0.092,\n",
       " 'median_income': 1.216,\n",
       " 'ocean_proximity=<1H OCEAN': 0.475,\n",
       " 'ocean_proximity=INLAND': -1.762,\n",
       " 'ocean_proximity=ISLAND': 0.035,\n",
       " 'ocean_proximity=NEAR BAY': 0.229,\n",
       " 'ocean_proximity=NEAR OCEAN': 0.891,\n",
       " 'population': -0.002,\n",
       " 'population_per_household': 0.01,\n",
       " 'rooms_per_household': -0.01,\n",
       " 'total_bedrooms': 0.002,\n",
       " 'total_rooms': -0.0}"
      ]
     },
     "execution_count": 36,
     "metadata": {},
     "output_type": "execute_result"
    }
   ],
   "source": [
    "model_coeffs = dict(zip(dv.get_feature_names_out(), model.coef_[0].round(3)))\n",
    "model_coeffs"
   ]
  },
  {
   "cell_type": "code",
   "execution_count": 37,
   "id": "93920896",
   "metadata": {
    "scrolled": true
   },
   "outputs": [
    {
     "data": {
      "text/plain": [
       "{'ocean_proximity=INLAND': -1.762,\n",
       " 'rooms_per_household': -0.01,\n",
       " 'population': -0.002,\n",
       " 'total_rooms': -0.0,\n",
       " 'total_bedrooms': 0.002,\n",
       " 'households': 0.004,\n",
       " 'population_per_household': 0.01,\n",
       " 'ocean_proximity=ISLAND': 0.035,\n",
       " 'housing_median_age': 0.036,\n",
       " 'longitude': 0.092,\n",
       " 'latitude': 0.13,\n",
       " 'ocean_proximity=NEAR BAY': 0.229,\n",
       " 'bedrooms_per_room': 0.341,\n",
       " 'ocean_proximity=<1H OCEAN': 0.475,\n",
       " 'ocean_proximity=NEAR OCEAN': 0.891,\n",
       " 'median_income': 1.216}"
      ]
     },
     "execution_count": 37,
     "metadata": {},
     "output_type": "execute_result"
    }
   ],
   "source": [
    "model_coeffs_dict = dict(zip(dv.get_feature_names_out(), model.coef_[0].round(3)))\n",
    "model_coeffs_list = sorted(model_coeffs.items(), key=lambda x:x[1])\n",
    "model_coeffs_dict_sorted = dict(model_coeffs_list)\n",
    "model_coeffs_dict_sorted"
   ]
  },
  {
   "cell_type": "code",
   "execution_count": 38,
   "id": "bc736fc8",
   "metadata": {},
   "outputs": [],
   "source": [
    "luf = ['total_rooms',\n",
    "                'total_bedrooms',\n",
    "                'population',\n",
    "                'households']"
   ]
  },
  {
   "cell_type": "code",
   "execution_count": 40,
   "id": "f76d5abe",
   "metadata": {},
   "outputs": [
    {
     "name": "stdout",
     "output_type": "stream",
     "text": [
      "Accuracy with least useful features: 0.71\n"
     ]
    }
   ],
   "source": [
    "X_train_least = df_train[luf]\n",
    "X_val_least = df_val[luf]\n",
    "\n",
    "model_least = LogisticRegression(solver=\"liblinear\",\n",
    "                                 C=1.0,\n",
    "                                 max_iter=1000,\n",
    "                                 random_state=42)\n",
    "\n",
    "model_least.fit(X_train_least, y_train)\n",
    "\n",
    "preds = model_least.predict(X_val_least)\n",
    "\n",
    "luf_acc = accuracy_score(y_val, preds)\n",
    "\n",
    "print(\"Accuracy with least useful features:\", np.round(luf_acc, 3))"
   ]
  },
  {
   "cell_type": "code",
   "execution_count": 41,
   "id": "d4043685",
   "metadata": {},
   "outputs": [
    {
     "name": "stdout",
     "output_type": "stream",
     "text": [
      "total_rooms is removed\n",
      "                       Accuracy without-total_rooms is = 0.628,     Difference in Acc : 0.082:\n",
      "total_bedrooms is removed\n",
      "                       Accuracy without-total_bedrooms is = 0.661,     Difference in Acc : 0.049:\n",
      "population is removed\n",
      "                       Accuracy without-population is = 0.657,     Difference in Acc : 0.053:\n",
      "households is removed\n",
      "                       Accuracy without-households is = 0.672,     Difference in Acc : 0.038:\n"
     ]
    }
   ],
   "source": [
    "for f in luf:\n",
    "    print(f\"{f} is removed\")\n",
    "    luf_exclude = luf.copy()\n",
    "    luf_exclude.remove(f)\n",
    "\n",
    "    X_train_exclude = df_train[luf_exclude]\n",
    "    X_val_exclude = df_val[luf_exclude]\n",
    "\n",
    "    model_least = LogisticRegression(solver=\"liblinear\",\n",
    "                                 C=1.0,\n",
    "                                 max_iter=1000,\n",
    "                                 random_state=42)\n",
    "\n",
    "    model_least.fit(X_train_exclude, y_train)\n",
    "\n",
    "    preds = model_least.predict(X_val_exclude)\n",
    "\n",
    "    luf_exclude_acc = accuracy_score(y_val, preds)\n",
    "\n",
    "    print(f\"                       Accuracy without-{f} is = {np.round(luf_exclude_acc, 3)}, \\\n",
    "    Difference in Acc : {np.round(luf_acc-luf_exclude_acc,3)}:\", )"
   ]
  },
  {
   "cell_type": "code",
   "execution_count": 42,
   "id": "236e0f98",
   "metadata": {},
   "outputs": [
    {
     "name": "stdout",
     "output_type": "stream",
     "text": [
      "Q5 Answer --> Which of following feature has the smallest difference: households  \n"
     ]
    }
   ],
   "source": [
    "print(f\"Q5 Answer --> Which of following feature has the smallest difference: households  \" )"
   ]
  },
  {
   "cell_type": "markdown",
   "id": "1588eb38",
   "metadata": {},
   "source": [
    "## Question 6"
   ]
  },
  {
   "cell_type": "raw",
   "id": "1c547b7b",
   "metadata": {},
   "source": [
    "For this question, we'll see how to use a linear regression model from Scikit-Learn\n",
    "We'll need to use the original column 'median_house_value'. Apply the logarithmic transformation to this column.\n",
    "Fit the Ridge regression model (model = Ridge(alpha=a, solver=\"sag\", random_state=42)) on the training data.\n",
    "This model has a parameter alpha. Let's try the following values: [0, 0.01, 0.1, 1, 10]\n",
    "Which of these alphas leads to the best RMSE on the validation set? Round your RMSE scores to 3 decimal digits.\n",
    "If there are multiple options, select the smallest alpha.\n",
    "\n",
    "Options:\n",
    "\n",
    "0\n",
    "0.01\n",
    "0.1\n",
    "1\n",
    "10"
   ]
  },
  {
   "cell_type": "code",
   "execution_count": null,
   "id": "9d9ce368",
   "metadata": {},
   "outputs": [],
   "source": []
  }
 ],
 "metadata": {
  "kernelspec": {
   "display_name": "Python 3 (ipykernel)",
   "language": "python",
   "name": "python3"
  },
  "language_info": {
   "codemirror_mode": {
    "name": "ipython",
    "version": 3
   },
   "file_extension": ".py",
   "mimetype": "text/x-python",
   "name": "python",
   "nbconvert_exporter": "python",
   "pygments_lexer": "ipython3",
   "version": "3.9.13"
  }
 },
 "nbformat": 4,
 "nbformat_minor": 5
}
