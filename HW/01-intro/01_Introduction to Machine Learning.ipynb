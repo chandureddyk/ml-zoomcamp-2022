{
 "cells": [
  {
   "cell_type": "markdown",
   "id": "85bb74c4",
   "metadata": {},
   "source": [
    "# 1. Introduction to Machine Learning - Homework"
   ]
  },
  {
   "cell_type": "markdown",
   "id": "fabdad53",
   "metadata": {},
   "source": [
    "## Set up the environment"
   ]
  },
  {
   "cell_type": "code",
   "execution_count": 1,
   "id": "e26a711a",
   "metadata": {},
   "outputs": [],
   "source": [
    "import numpy as np\n",
    "import pandas as pd"
   ]
  },
  {
   "cell_type": "code",
   "execution_count": 2,
   "id": "6e1aafff",
   "metadata": {},
   "outputs": [],
   "source": [
    "import wget"
   ]
  },
  {
   "cell_type": "markdown",
   "id": "e59f22d1",
   "metadata": {},
   "source": [
    "### Question 1: Version of NumPy"
   ]
  },
  {
   "cell_type": "code",
   "execution_count": 3,
   "id": "f9b4ae33",
   "metadata": {},
   "outputs": [
    {
     "name": "stdout",
     "output_type": "stream",
     "text": [
      "Q1 Answer --> Version of NumPy:  1.23.1\n"
     ]
    }
   ],
   "source": [
    "print(\"Q1 Answer --> Version of NumPy: \", np.__version__)"
   ]
  },
  {
   "cell_type": "markdown",
   "id": "be214566",
   "metadata": {},
   "source": [
    "## Getting the Car price dataset."
   ]
  },
  {
   "cell_type": "code",
   "execution_count": 4,
   "id": "a8f381e1",
   "metadata": {},
   "outputs": [
    {
     "name": "stdout",
     "output_type": "stream",
     "text": [
      "\r",
      "  0% [                                                                          ]       0 / 1475504\r",
      "  0% [                                                                          ]    8192 / 1475504\r",
      "  1% [                                                                          ]   16384 / 1475504\r",
      "  1% [.                                                                         ]   24576 / 1475504\r",
      "  2% [.                                                                         ]   32768 / 1475504\r",
      "  2% [..                                                                        ]   40960 / 1475504\r",
      "  3% [..                                                                        ]   49152 / 1475504\r",
      "  3% [..                                                                        ]   57344 / 1475504\r",
      "  4% [...                                                                       ]   65536 / 1475504\r",
      "  4% [...                                                                       ]   73728 / 1475504\r",
      "  5% [....                                                                      ]   81920 / 1475504\r",
      "  6% [....                                                                      ]   90112 / 1475504\r",
      "  6% [....                                                                      ]   98304 / 1475504\r",
      "  7% [.....                                                                     ]  106496 / 1475504\r",
      "  7% [.....                                                                     ]  114688 / 1475504\r",
      "  8% [......                                                                    ]  122880 / 1475504\r",
      "  8% [......                                                                    ]  131072 / 1475504\r",
      "  9% [......                                                                    ]  139264 / 1475504\r",
      "  9% [.......                                                                   ]  147456 / 1475504\r",
      " 10% [.......                                                                   ]  155648 / 1475504\r",
      " 11% [........                                                                  ]  163840 / 1475504\r",
      " 11% [........                                                                  ]  172032 / 1475504\r",
      " 12% [.........                                                                 ]  180224 / 1475504\r",
      " 12% [.........                                                                 ]  188416 / 1475504\r",
      " 13% [.........                                                                 ]  196608 / 1475504\r",
      " 13% [..........                                                                ]  204800 / 1475504\r",
      " 14% [..........                                                                ]  212992 / 1475504\r",
      " 14% [...........                                                               ]  221184 / 1475504\r",
      " 15% [...........                                                               ]  229376 / 1475504\r",
      " 16% [...........                                                               ]  237568 / 1475504\r",
      " 16% [............                                                              ]  245760 / 1475504\r",
      " 17% [............                                                              ]  253952 / 1475504\r",
      " 17% [.............                                                             ]  262144 / 1475504\r",
      " 18% [.............                                                             ]  270336 / 1475504\r",
      " 18% [.............                                                             ]  278528 / 1475504\r",
      " 19% [..............                                                            ]  286720 / 1475504\r",
      " 19% [..............                                                            ]  294912 / 1475504\r",
      " 20% [...............                                                           ]  303104 / 1475504\r",
      " 21% [...............                                                           ]  311296 / 1475504\r",
      " 21% [................                                                          ]  319488 / 1475504\r",
      " 22% [................                                                          ]  327680 / 1475504\r",
      " 22% [................                                                          ]  335872 / 1475504\r",
      " 23% [.................                                                         ]  344064 / 1475504\r",
      " 23% [.................                                                         ]  352256 / 1475504\r",
      " 24% [..................                                                        ]  360448 / 1475504\r",
      " 24% [..................                                                        ]  368640 / 1475504\r",
      " 25% [..................                                                        ]  376832 / 1475504\r",
      " 26% [...................                                                       ]  385024 / 1475504\r",
      " 26% [...................                                                       ]  393216 / 1475504\r",
      " 27% [....................                                                      ]  401408 / 1475504\r",
      " 27% [....................                                                      ]  409600 / 1475504\r",
      " 28% [....................                                                      ]  417792 / 1475504\r",
      " 28% [.....................                                                     ]  425984 / 1475504\r",
      " 29% [.....................                                                     ]  434176 / 1475504\r",
      " 29% [......................                                                    ]  442368 / 1475504\r",
      " 30% [......................                                                    ]  450560 / 1475504\r",
      " 31% [.......................                                                   ]  458752 / 1475504\r",
      " 31% [.......................                                                   ]  466944 / 1475504\r",
      " 32% [.......................                                                   ]  475136 / 1475504\r",
      " 32% [........................                                                  ]  483328 / 1475504\r",
      " 33% [........................                                                  ]  491520 / 1475504\r",
      " 33% [.........................                                                 ]  499712 / 1475504\r",
      " 34% [.........................                                                 ]  507904 / 1475504\r",
      " 34% [.........................                                                 ]  516096 / 1475504\r",
      " 35% [..........................                                                ]  524288 / 1475504\r",
      " 36% [..........................                                                ]  532480 / 1475504\r",
      " 36% [...........................                                               ]  540672 / 1475504\r",
      " 37% [...........................                                               ]  548864 / 1475504\r",
      " 37% [...........................                                               ]  557056 / 1475504\r",
      " 38% [............................                                              ]  565248 / 1475504\r",
      " 38% [............................                                              ]  573440 / 1475504\r",
      " 39% [.............................                                             ]  581632 / 1475504\r",
      " 39% [.............................                                             ]  589824 / 1475504\r",
      " 40% [.............................                                             ]  598016 / 1475504\r",
      " 41% [..............................                                            ]  606208 / 1475504\r",
      " 41% [..............................                                            ]  614400 / 1475504\r",
      " 42% [...............................                                           ]  622592 / 1475504\r",
      " 42% [...............................                                           ]  630784 / 1475504\r",
      " 43% [................................                                          ]  638976 / 1475504\r",
      " 43% [................................                                          ]  647168 / 1475504\r",
      " 44% [................................                                          ]  655360 / 1475504\r",
      " 44% [.................................                                         ]  663552 / 1475504\r",
      " 45% [.................................                                         ]  671744 / 1475504\r",
      " 46% [..................................                                        ]  679936 / 1475504\r",
      " 46% [..................................                                        ]  688128 / 1475504\r",
      " 47% [..................................                                        ]  696320 / 1475504\r",
      " 47% [...................................                                       ]  704512 / 1475504\r",
      " 48% [...................................                                       ]  712704 / 1475504\r",
      " 48% [....................................                                      ]  720896 / 1475504\r",
      " 49% [....................................                                      ]  729088 / 1475504\r",
      " 49% [....................................                                      ]  737280 / 1475504\r",
      " 50% [.....................................                                     ]  745472 / 1475504\r",
      " 51% [.....................................                                     ]  753664 / 1475504\r",
      " 51% [......................................                                    ]  761856 / 1475504\r",
      " 52% [......................................                                    ]  770048 / 1475504\r",
      " 52% [.......................................                                   ]  778240 / 1475504\r",
      " 53% [.......................................                                   ]  786432 / 1475504\r",
      " 53% [.......................................                                   ]  794624 / 1475504\r",
      " 54% [........................................                                  ]  802816 / 1475504\r",
      " 54% [........................................                                  ]  811008 / 1475504\r",
      " 55% [.........................................                                 ]  819200 / 1475504\r",
      " 56% [.........................................                                 ]  827392 / 1475504\r",
      " 56% [.........................................                                 ]  835584 / 1475504\r",
      " 57% [..........................................                                ]  843776 / 1475504\r",
      " 57% [..........................................                                ]  851968 / 1475504\r",
      " 58% [...........................................                               ]  860160 / 1475504\r",
      " 58% [...........................................                               ]  868352 / 1475504\r",
      " 59% [...........................................                               ]  876544 / 1475504\r",
      " 59% [............................................                              ]  884736 / 1475504\r",
      " 60% [............................................                              ]  892928 / 1475504\r",
      " 61% [.............................................                             ]  901120 / 1475504\r",
      " 61% [.............................................                             ]  909312 / 1475504\r",
      " 62% [..............................................                            ]  917504 / 1475504\r",
      " 62% [..............................................                            ]  925696 / 1475504\r",
      " 63% [..............................................                            ]  933888 / 1475504\r",
      " 63% [...............................................                           ]  942080 / 1475504\r",
      " 64% [...............................................                           ]  950272 / 1475504\r",
      " 64% [................................................                          ]  958464 / 1475504\r",
      " 65% [................................................                          ]  966656 / 1475504\r",
      " 66% [................................................                          ]  974848 / 1475504\r",
      " 66% [.................................................                         ]  983040 / 1475504\r",
      " 67% [.................................................                         ]  991232 / 1475504\r",
      " 67% [..................................................                        ]  999424 / 1475504\r",
      " 68% [..................................................                        ] 1007616 / 1475504\r",
      " 68% [..................................................                        ] 1015808 / 1475504\r",
      " 69% [...................................................                       ] 1024000 / 1475504\r",
      " 69% [...................................................                       ] 1032192 / 1475504\r",
      " 70% [....................................................                      ] 1040384 / 1475504\r",
      " 71% [....................................................                      ] 1048576 / 1475504\r",
      " 71% [....................................................                      ] 1056768 / 1475504\r",
      " 72% [.....................................................                     ] 1064960 / 1475504\r",
      " 72% [.....................................................                     ] 1073152 / 1475504\r",
      " 73% [......................................................                    ] 1081344 / 1475504\r",
      " 73% [......................................................                    ] 1089536 / 1475504\r",
      " 74% [.......................................................                   ] 1097728 / 1475504\r",
      " 74% [.......................................................                   ] 1105920 / 1475504\r",
      " 75% [.......................................................                   ] 1114112 / 1475504\r",
      " 76% [........................................................                  ] 1122304 / 1475504\r",
      " 76% [........................................................                  ] 1130496 / 1475504"
     ]
    },
    {
     "name": "stdout",
     "output_type": "stream",
     "text": [
      "\r",
      " 77% [.........................................................                 ] 1138688 / 1475504\r",
      " 77% [.........................................................                 ] 1146880 / 1475504\r",
      " 78% [.........................................................                 ] 1155072 / 1475504\r",
      " 78% [..........................................................                ] 1163264 / 1475504\r",
      " 79% [..........................................................                ] 1171456 / 1475504\r",
      " 79% [...........................................................               ] 1179648 / 1475504\r",
      " 80% [...........................................................               ] 1187840 / 1475504\r",
      " 81% [...........................................................               ] 1196032 / 1475504\r",
      " 81% [............................................................              ] 1204224 / 1475504\r",
      " 82% [............................................................              ] 1212416 / 1475504\r",
      " 82% [.............................................................             ] 1220608 / 1475504\r",
      " 83% [.............................................................             ] 1228800 / 1475504\r",
      " 83% [..............................................................            ] 1236992 / 1475504\r",
      " 84% [..............................................................            ] 1245184 / 1475504\r",
      " 84% [..............................................................            ] 1253376 / 1475504\r",
      " 85% [...............................................................           ] 1261568 / 1475504\r",
      " 86% [...............................................................           ] 1269760 / 1475504\r",
      " 86% [................................................................          ] 1277952 / 1475504\r",
      " 87% [................................................................          ] 1286144 / 1475504\r",
      " 87% [................................................................          ] 1294336 / 1475504\r",
      " 88% [.................................................................         ] 1302528 / 1475504\r",
      " 88% [.................................................................         ] 1310720 / 1475504\r",
      " 89% [..................................................................        ] 1318912 / 1475504\r",
      " 89% [..................................................................        ] 1327104 / 1475504\r",
      " 90% [..................................................................        ] 1335296 / 1475504\r",
      " 91% [...................................................................       ] 1343488 / 1475504\r",
      " 91% [...................................................................       ] 1351680 / 1475504\r",
      " 92% [....................................................................      ] 1359872 / 1475504\r",
      " 92% [....................................................................      ] 1368064 / 1475504\r",
      " 93% [.....................................................................     ] 1376256 / 1475504\r",
      " 93% [.....................................................................     ] 1384448 / 1475504\r",
      " 94% [.....................................................................     ] 1392640 / 1475504\r",
      " 94% [......................................................................    ] 1400832 / 1475504\r",
      " 95% [......................................................................    ] 1409024 / 1475504\r",
      " 96% [.......................................................................   ] 1417216 / 1475504\r",
      " 96% [.......................................................................   ] 1425408 / 1475504\r",
      " 97% [.......................................................................   ] 1433600 / 1475504\r",
      " 97% [........................................................................  ] 1441792 / 1475504\r",
      " 98% [........................................................................  ] 1449984 / 1475504\r",
      " 98% [......................................................................... ] 1458176 / 1475504\r",
      " 99% [......................................................................... ] 1466368 / 1475504\r",
      " 99% [......................................................................... ] 1474560 / 1475504\r",
      "100% [..........................................................................] 1475504 / 1475504"
     ]
    }
   ],
   "source": [
    "dataset_url = 'https://raw.githubusercontent.com/alexeygrigorev/mlbookcamp-code/master/chapter-02-car-price/data.csv'\n",
    "filename = wget.download(dataset_url)"
   ]
  },
  {
   "cell_type": "code",
   "execution_count": 5,
   "id": "3f9430b7",
   "metadata": {},
   "outputs": [],
   "source": [
    "cars_data_set = pd.read_csv('data.csv')"
   ]
  },
  {
   "cell_type": "code",
   "execution_count": 6,
   "id": "8ac35742",
   "metadata": {},
   "outputs": [
    {
     "data": {
      "text/plain": [
       "(11914, 16)"
      ]
     },
     "execution_count": 6,
     "metadata": {},
     "output_type": "execute_result"
    }
   ],
   "source": [
    "cars_data = cars_data_set\n",
    "cars_data.shape"
   ]
  },
  {
   "cell_type": "markdown",
   "id": "f40a49f5",
   "metadata": {},
   "source": [
    "### Question 2 : How many records are in the dataset?"
   ]
  },
  {
   "cell_type": "code",
   "execution_count": 7,
   "id": "be96024a",
   "metadata": {},
   "outputs": [
    {
     "name": "stdout",
     "output_type": "stream",
     "text": [
      "Q2 Answer -->  Number of Records in Data set are : 11914\n"
     ]
    }
   ],
   "source": [
    "print(\"Q2 Answer -->  Number of Records in Data set are :\", cars_data.shape[0] )"
   ]
  },
  {
   "cell_type": "markdown",
   "id": "4ec7c6c5",
   "metadata": {},
   "source": [
    "### Question 3 : Who are the most frequent car manufacturers (top-3) according to the dataset?"
   ]
  },
  {
   "cell_type": "code",
   "execution_count": 8,
   "id": "9d098419",
   "metadata": {},
   "outputs": [
    {
     "data": {
      "text/plain": [
       "Chevrolet        1123\n",
       "Ford              881\n",
       "Volkswagen        809\n",
       "Toyota            746\n",
       "Dodge             626\n",
       "Nissan            558\n",
       "GMC               515\n",
       "Honda             449\n",
       "Mazda             423\n",
       "Cadillac          397\n",
       "Mercedes-Benz     353\n",
       "Suzuki            351\n",
       "BMW               334\n",
       "Infiniti          330\n",
       "Audi              328\n",
       "Hyundai           303\n",
       "Volvo             281\n",
       "Subaru            256\n",
       "Acura             252\n",
       "Kia               231\n",
       "Mitsubishi        213\n",
       "Lexus             202\n",
       "Buick             196\n",
       "Chrysler          187\n",
       "Pontiac           186\n",
       "Lincoln           164\n",
       "Oldsmobile        150\n",
       "Land Rover        143\n",
       "Porsche           136\n",
       "Saab              111\n",
       "Aston Martin       93\n",
       "Plymouth           82\n",
       "Bentley            74\n",
       "Ferrari            69\n",
       "FIAT               62\n",
       "Scion              60\n",
       "Maserati           58\n",
       "Lamborghini        52\n",
       "Rolls-Royce        31\n",
       "Lotus              29\n",
       "Tesla              18\n",
       "HUMMER             17\n",
       "Maybach            16\n",
       "Alfa Romeo          5\n",
       "McLaren             5\n",
       "Spyker              3\n",
       "Genesis             3\n",
       "Bugatti             3\n",
       "Name: Make, dtype: int64"
      ]
     },
     "execution_count": 8,
     "metadata": {},
     "output_type": "execute_result"
    }
   ],
   "source": [
    "cars_data['Make'].value_counts()"
   ]
  },
  {
   "cell_type": "code",
   "execution_count": 9,
   "id": "d01d41ac",
   "metadata": {},
   "outputs": [
    {
     "data": {
      "text/plain": [
       "Chevrolet     1123\n",
       "Ford           881\n",
       "Volkswagen     809\n",
       "Name: Make, dtype: int64"
      ]
     },
     "execution_count": 9,
     "metadata": {},
     "output_type": "execute_result"
    }
   ],
   "source": [
    "cars_data['Make'].value_counts().head(3)"
   ]
  },
  {
   "cell_type": "code",
   "execution_count": 10,
   "id": "743e1e3b",
   "metadata": {},
   "outputs": [
    {
     "name": "stdout",
     "output_type": "stream",
     "text": [
      "Q3 Answer -->  most frequent car manufacturers (top-3):\n",
      "Chevrolet Ford Volkswagen "
     ]
    }
   ],
   "source": [
    "print(\"Q3 Answer -->  most frequent car manufacturers (top-3):\")\n",
    "for idx in cars_data['Make'].value_counts().head(3).index:\n",
    "    print(idx, end = ' ')"
   ]
  },
  {
   "cell_type": "markdown",
   "id": "d0a05c29",
   "metadata": {},
   "source": [
    "### Question 4 : What's the number of unique Audi car models in the dataset?"
   ]
  },
  {
   "cell_type": "code",
   "execution_count": 11,
   "id": "b1eef93f",
   "metadata": {},
   "outputs": [],
   "source": [
    "count = cars_data.loc[cars_data[\"Make\"] == \"Audi\", \"Model\"].nunique() "
   ]
  },
  {
   "cell_type": "code",
   "execution_count": 12,
   "id": "5163f09e",
   "metadata": {},
   "outputs": [
    {
     "name": "stdout",
     "output_type": "stream",
     "text": [
      "Q4 Answer -->  number of unique Audi car models = 34\n"
     ]
    }
   ],
   "source": [
    "print(\"Q4 Answer -->  number of unique Audi car models =\", count)"
   ]
  },
  {
   "cell_type": "markdown",
   "id": "266c04f9",
   "metadata": {},
   "source": [
    "#### Question 5 : How many columns in the dataset have missing values?"
   ]
  },
  {
   "cell_type": "code",
   "execution_count": 13,
   "id": "328091b0",
   "metadata": {},
   "outputs": [],
   "source": [
    "count = cars_data.isnull().any(axis = 0).sum()"
   ]
  },
  {
   "cell_type": "code",
   "execution_count": 14,
   "id": "e671ffd4",
   "metadata": {},
   "outputs": [
    {
     "name": "stdout",
     "output_type": "stream",
     "text": [
      "Q5 Answer -->  number of columns in the dataset have missing values = 5\n"
     ]
    }
   ],
   "source": [
    "print(\"Q5 Answer -->  number of columns in the dataset have missing values =\", count)"
   ]
  },
  {
   "cell_type": "markdown",
   "id": "dd5c10ea",
   "metadata": {},
   "source": [
    "### Question 6\n",
    "1. Find the median value of \"Engine Cylinders\" column in the dataset.\n",
    "2. Next, calculate the most frequent value of the same \"Engine Cylinders\".\n",
    "3. Use the fillna method to fill the missing values in \"Engine Cylinders\" with the most frequent value from the previous step.\n",
    "4. Now, calculate the median value of \"Engine Cylinders\" once again.\n",
    "Has it changed?\n",
    "\n",
    "Hint: refer to existing mode and median functions to complete the task."
   ]
  },
  {
   "cell_type": "code",
   "execution_count": 15,
   "id": "30b091eb",
   "metadata": {},
   "outputs": [],
   "source": [
    "# median value of \"Engine Cylinders\" column\n",
    "median1 = cars_data[\"Engine Cylinders\"].median()"
   ]
  },
  {
   "cell_type": "code",
   "execution_count": 16,
   "id": "e0ab5859",
   "metadata": {},
   "outputs": [
    {
     "data": {
      "text/plain": [
       "0    4.0\n",
       "Name: Engine Cylinders, dtype: float64"
      ]
     },
     "execution_count": 16,
     "metadata": {},
     "output_type": "execute_result"
    }
   ],
   "source": [
    "#most frequent value of the same \"Engine Cylinders\".\n",
    "cars_data[\"Engine Cylinders\"].mode()"
   ]
  },
  {
   "cell_type": "code",
   "execution_count": 17,
   "id": "2dce2249",
   "metadata": {},
   "outputs": [],
   "source": [
    "cars_data[\"Engine Cylinders\"].fillna(cars_data[\"Engine Cylinders\"].mode()[0],inplace = True)"
   ]
  },
  {
   "cell_type": "code",
   "execution_count": 18,
   "id": "209e233f",
   "metadata": {},
   "outputs": [],
   "source": [
    "median2 = cars_data[\"Engine Cylinders\"].median()"
   ]
  },
  {
   "cell_type": "code",
   "execution_count": 19,
   "id": "40a1adac",
   "metadata": {},
   "outputs": [
    {
     "name": "stdout",
     "output_type": "stream",
     "text": [
      "Q6 Answer -->  Median changed? : No \n"
     ]
    }
   ],
   "source": [
    "if(median1 == median2):\n",
    "    print(\"Q6 Answer -->  Median changed? : No \")\n",
    "else:\n",
    "    print(\"Q6 Answer -->  Median changed? : Yes \")    "
   ]
  },
  {
   "cell_type": "markdown",
   "id": "be9378d9",
   "metadata": {},
   "source": [
    "# Question 7\n",
    "1. Select all the \"Lotus\" cars from the dataset.\n",
    "2. Select only columns \"Engine HP\", \"Engine Cylinders\".\n",
    "3. Now drop all duplicated rows using drop_duplicates method (you should get a dataframe with 9 rows).\n",
    "4. Get the underlying NumPy array. Let's call it X.\n",
    "5. Compute matrix-matrix multiplication between the transpose of X and X. To get the transpose, use X.T. Let's call the result XTX.\n",
    "6. Invert XTX.\n",
    "7. Create an array y with values [1100, 800, 750, 850, 1300, 1000, 1000, 1300, 800].\n",
    "8. Multiply the inverse of XTX with the transpose of X, and then multiply the result by y. Call the result w.\n",
    "9. What's the value of the first element of w?"
   ]
  },
  {
   "cell_type": "code",
   "execution_count": 20,
   "id": "25e22c88",
   "metadata": {},
   "outputs": [
    {
     "data": {
      "text/html": [
       "<div>\n",
       "<style scoped>\n",
       "    .dataframe tbody tr th:only-of-type {\n",
       "        vertical-align: middle;\n",
       "    }\n",
       "\n",
       "    .dataframe tbody tr th {\n",
       "        vertical-align: top;\n",
       "    }\n",
       "\n",
       "    .dataframe thead th {\n",
       "        text-align: right;\n",
       "    }\n",
       "</style>\n",
       "<table border=\"1\" class=\"dataframe\">\n",
       "  <thead>\n",
       "    <tr style=\"text-align: right;\">\n",
       "      <th></th>\n",
       "      <th>Make</th>\n",
       "      <th>Model</th>\n",
       "      <th>Year</th>\n",
       "      <th>Engine Fuel Type</th>\n",
       "      <th>Engine HP</th>\n",
       "      <th>Engine Cylinders</th>\n",
       "      <th>Transmission Type</th>\n",
       "      <th>Driven_Wheels</th>\n",
       "      <th>Number of Doors</th>\n",
       "      <th>Market Category</th>\n",
       "      <th>Vehicle Size</th>\n",
       "      <th>Vehicle Style</th>\n",
       "      <th>highway MPG</th>\n",
       "      <th>city mpg</th>\n",
       "      <th>Popularity</th>\n",
       "      <th>MSRP</th>\n",
       "    </tr>\n",
       "  </thead>\n",
       "  <tbody>\n",
       "    <tr>\n",
       "      <th>3912</th>\n",
       "      <td>Lotus</td>\n",
       "      <td>Elise</td>\n",
       "      <td>2009</td>\n",
       "      <td>premium unleaded (required)</td>\n",
       "      <td>189.0</td>\n",
       "      <td>4.0</td>\n",
       "      <td>MANUAL</td>\n",
       "      <td>rear wheel drive</td>\n",
       "      <td>2.0</td>\n",
       "      <td>Exotic,High-Performance</td>\n",
       "      <td>Compact</td>\n",
       "      <td>Convertible</td>\n",
       "      <td>27</td>\n",
       "      <td>21</td>\n",
       "      <td>613</td>\n",
       "      <td>43995</td>\n",
       "    </tr>\n",
       "    <tr>\n",
       "      <th>3913</th>\n",
       "      <td>Lotus</td>\n",
       "      <td>Elise</td>\n",
       "      <td>2009</td>\n",
       "      <td>premium unleaded (required)</td>\n",
       "      <td>218.0</td>\n",
       "      <td>4.0</td>\n",
       "      <td>MANUAL</td>\n",
       "      <td>rear wheel drive</td>\n",
       "      <td>2.0</td>\n",
       "      <td>Exotic,High-Performance</td>\n",
       "      <td>Compact</td>\n",
       "      <td>Convertible</td>\n",
       "      <td>26</td>\n",
       "      <td>20</td>\n",
       "      <td>613</td>\n",
       "      <td>54990</td>\n",
       "    </tr>\n",
       "    <tr>\n",
       "      <th>3914</th>\n",
       "      <td>Lotus</td>\n",
       "      <td>Elise</td>\n",
       "      <td>2009</td>\n",
       "      <td>premium unleaded (required)</td>\n",
       "      <td>189.0</td>\n",
       "      <td>4.0</td>\n",
       "      <td>MANUAL</td>\n",
       "      <td>rear wheel drive</td>\n",
       "      <td>2.0</td>\n",
       "      <td>Exotic,High-Performance</td>\n",
       "      <td>Compact</td>\n",
       "      <td>Convertible</td>\n",
       "      <td>27</td>\n",
       "      <td>21</td>\n",
       "      <td>613</td>\n",
       "      <td>47250</td>\n",
       "    </tr>\n",
       "    <tr>\n",
       "      <th>3915</th>\n",
       "      <td>Lotus</td>\n",
       "      <td>Elise</td>\n",
       "      <td>2010</td>\n",
       "      <td>premium unleaded (required)</td>\n",
       "      <td>189.0</td>\n",
       "      <td>4.0</td>\n",
       "      <td>MANUAL</td>\n",
       "      <td>rear wheel drive</td>\n",
       "      <td>2.0</td>\n",
       "      <td>Exotic,High-Performance</td>\n",
       "      <td>Compact</td>\n",
       "      <td>Convertible</td>\n",
       "      <td>27</td>\n",
       "      <td>21</td>\n",
       "      <td>613</td>\n",
       "      <td>47250</td>\n",
       "    </tr>\n",
       "    <tr>\n",
       "      <th>3916</th>\n",
       "      <td>Lotus</td>\n",
       "      <td>Elise</td>\n",
       "      <td>2010</td>\n",
       "      <td>premium unleaded (required)</td>\n",
       "      <td>218.0</td>\n",
       "      <td>4.0</td>\n",
       "      <td>MANUAL</td>\n",
       "      <td>rear wheel drive</td>\n",
       "      <td>2.0</td>\n",
       "      <td>Exotic,High-Performance</td>\n",
       "      <td>Compact</td>\n",
       "      <td>Convertible</td>\n",
       "      <td>26</td>\n",
       "      <td>20</td>\n",
       "      <td>613</td>\n",
       "      <td>54990</td>\n",
       "    </tr>\n",
       "  </tbody>\n",
       "</table>\n",
       "</div>"
      ],
      "text/plain": [
       "       Make  Model  Year             Engine Fuel Type  Engine HP  \\\n",
       "3912  Lotus  Elise  2009  premium unleaded (required)      189.0   \n",
       "3913  Lotus  Elise  2009  premium unleaded (required)      218.0   \n",
       "3914  Lotus  Elise  2009  premium unleaded (required)      189.0   \n",
       "3915  Lotus  Elise  2010  premium unleaded (required)      189.0   \n",
       "3916  Lotus  Elise  2010  premium unleaded (required)      218.0   \n",
       "\n",
       "      Engine Cylinders Transmission Type     Driven_Wheels  Number of Doors  \\\n",
       "3912               4.0            MANUAL  rear wheel drive              2.0   \n",
       "3913               4.0            MANUAL  rear wheel drive              2.0   \n",
       "3914               4.0            MANUAL  rear wheel drive              2.0   \n",
       "3915               4.0            MANUAL  rear wheel drive              2.0   \n",
       "3916               4.0            MANUAL  rear wheel drive              2.0   \n",
       "\n",
       "              Market Category Vehicle Size Vehicle Style  highway MPG  \\\n",
       "3912  Exotic,High-Performance      Compact   Convertible           27   \n",
       "3913  Exotic,High-Performance      Compact   Convertible           26   \n",
       "3914  Exotic,High-Performance      Compact   Convertible           27   \n",
       "3915  Exotic,High-Performance      Compact   Convertible           27   \n",
       "3916  Exotic,High-Performance      Compact   Convertible           26   \n",
       "\n",
       "      city mpg  Popularity   MSRP  \n",
       "3912        21         613  43995  \n",
       "3913        20         613  54990  \n",
       "3914        21         613  47250  \n",
       "3915        21         613  47250  \n",
       "3916        20         613  54990  "
      ]
     },
     "execution_count": 20,
     "metadata": {},
     "output_type": "execute_result"
    }
   ],
   "source": [
    "# 1. Select all the \"Lotus\" cars from the dataset.\n",
    "cars_data_temp =  cars_data[cars_data['Make'] == 'Lotus']\n",
    "cars_data_temp.head(5)"
   ]
  },
  {
   "cell_type": "code",
   "execution_count": 21,
   "id": "85babbce",
   "metadata": {},
   "outputs": [
    {
     "data": {
      "text/plain": [
       "(29, 16)"
      ]
     },
     "execution_count": 21,
     "metadata": {},
     "output_type": "execute_result"
    }
   ],
   "source": [
    "cars_data_temp.shape"
   ]
  },
  {
   "cell_type": "code",
   "execution_count": 22,
   "id": "cdb3fd30",
   "metadata": {},
   "outputs": [
    {
     "data": {
      "text/html": [
       "<div>\n",
       "<style scoped>\n",
       "    .dataframe tbody tr th:only-of-type {\n",
       "        vertical-align: middle;\n",
       "    }\n",
       "\n",
       "    .dataframe tbody tr th {\n",
       "        vertical-align: top;\n",
       "    }\n",
       "\n",
       "    .dataframe thead th {\n",
       "        text-align: right;\n",
       "    }\n",
       "</style>\n",
       "<table border=\"1\" class=\"dataframe\">\n",
       "  <thead>\n",
       "    <tr style=\"text-align: right;\">\n",
       "      <th></th>\n",
       "      <th>Engine HP</th>\n",
       "      <th>Engine Cylinders</th>\n",
       "    </tr>\n",
       "  </thead>\n",
       "  <tbody>\n",
       "    <tr>\n",
       "      <th>3912</th>\n",
       "      <td>189.0</td>\n",
       "      <td>4.0</td>\n",
       "    </tr>\n",
       "    <tr>\n",
       "      <th>3913</th>\n",
       "      <td>218.0</td>\n",
       "      <td>4.0</td>\n",
       "    </tr>\n",
       "    <tr>\n",
       "      <th>3914</th>\n",
       "      <td>189.0</td>\n",
       "      <td>4.0</td>\n",
       "    </tr>\n",
       "    <tr>\n",
       "      <th>3915</th>\n",
       "      <td>189.0</td>\n",
       "      <td>4.0</td>\n",
       "    </tr>\n",
       "    <tr>\n",
       "      <th>3916</th>\n",
       "      <td>218.0</td>\n",
       "      <td>4.0</td>\n",
       "    </tr>\n",
       "  </tbody>\n",
       "</table>\n",
       "</div>"
      ],
      "text/plain": [
       "      Engine HP  Engine Cylinders\n",
       "3912      189.0               4.0\n",
       "3913      218.0               4.0\n",
       "3914      189.0               4.0\n",
       "3915      189.0               4.0\n",
       "3916      218.0               4.0"
      ]
     },
     "execution_count": 22,
     "metadata": {},
     "output_type": "execute_result"
    }
   ],
   "source": [
    "# 2. Select only columns \"Engine HP\", \"Engine Cylinders\".\n",
    "cars_data_temp = cars_data_temp[[\"Engine HP\", \"Engine Cylinders\"]]\n",
    "cars_data_temp.head(5)"
   ]
  },
  {
   "cell_type": "code",
   "execution_count": 23,
   "id": "37ff1a86",
   "metadata": {},
   "outputs": [
    {
     "data": {
      "text/plain": [
       "(9, 2)"
      ]
     },
     "execution_count": 23,
     "metadata": {},
     "output_type": "execute_result"
    }
   ],
   "source": [
    "# 3. Now drop all duplicated rows using drop_duplicates method (you should get a dataframe with 9 rows).\n",
    "cars_data_temp.drop_duplicates(inplace=True)\n",
    "cars_data_temp.shape"
   ]
  },
  {
   "cell_type": "code",
   "execution_count": 24,
   "id": "b256118e",
   "metadata": {},
   "outputs": [
    {
     "name": "stdout",
     "output_type": "stream",
     "text": [
      "[[189.   4.]\n",
      " [218.   4.]\n",
      " [217.   4.]\n",
      " [350.   8.]\n",
      " [400.   6.]\n",
      " [276.   6.]\n",
      " [345.   6.]\n",
      " [257.   4.]\n",
      " [240.   4.]]\n"
     ]
    }
   ],
   "source": [
    "# 4. Get the underlying NumPy array. Let's call it X.\n",
    "X = cars_data_temp.to_numpy()\n",
    "print(X)"
   ]
  },
  {
   "cell_type": "code",
   "execution_count": 25,
   "id": "111096f4",
   "metadata": {},
   "outputs": [
    {
     "name": "stdout",
     "output_type": "stream",
     "text": [
      "[[189. 218. 217. 350. 400. 276. 345. 257. 240.]\n",
      " [  4.   4.   4.   8.   6.   6.   6.   4.   4.]]\n"
     ]
    }
   ],
   "source": [
    "XT = X.transpose()\n",
    "print(XT)"
   ]
  },
  {
   "cell_type": "code",
   "execution_count": 26,
   "id": "3ad18d0a",
   "metadata": {},
   "outputs": [
    {
     "name": "stdout",
     "output_type": "stream",
     "text": [
      "[[7.31684e+05 1.34100e+04]\n",
      " [1.34100e+04 2.52000e+02]]\n"
     ]
    }
   ],
   "source": [
    "#5. Compute matrix-matrix multiplication between the transpose of X and X. \n",
    "XTX = XT.dot(X)\n",
    "print(XTX)"
   ]
  },
  {
   "cell_type": "code",
   "execution_count": 27,
   "id": "9da6c886",
   "metadata": {},
   "outputs": [
    {
     "name": "stdout",
     "output_type": "stream",
     "text": [
      "[[ 5.53084235e-05 -2.94319825e-03]\n",
      " [-2.94319825e-03  1.60588447e-01]]\n"
     ]
    }
   ],
   "source": [
    "#6. Invert XTX.\n",
    "XTX_inverse = np.linalg.inv(XTX)\n",
    "print(XTX_inverse)"
   ]
  },
  {
   "cell_type": "code",
   "execution_count": 28,
   "id": "ae5292de",
   "metadata": {},
   "outputs": [],
   "source": [
    "#7. Create an array y with values [1100, 800, 750, 850, 1300, 1000, 1000, 1300, 800].\n",
    "y = np.array([1100, 800, 750, 850, 1300, 1000, 1000, 1300, 800])"
   ]
  },
  {
   "cell_type": "code",
   "execution_count": 29,
   "id": "94b0f0b9",
   "metadata": {},
   "outputs": [
    {
     "name": "stdout",
     "output_type": "stream",
     "text": [
      "[  4.59494481 -63.56432501]\n"
     ]
    }
   ],
   "source": [
    "#8. Multiply the inverse of XTX with the transpose of X, and then multiply the result by y. Call the result w.\n",
    "w = (XTX_inverse.dot(XT)).dot(y)\n",
    "print(w)"
   ]
  },
  {
   "cell_type": "code",
   "execution_count": 30,
   "id": "4a731c82",
   "metadata": {},
   "outputs": [
    {
     "name": "stdout",
     "output_type": "stream",
     "text": [
      "Q7 Answer -->  value of the first element of w? :  4.594944810094551\n"
     ]
    }
   ],
   "source": [
    "print(\"Q7 Answer -->  value of the first element of w? : \" , w[0])    "
   ]
  },
  {
   "cell_type": "code",
   "execution_count": null,
   "id": "1e8497e2",
   "metadata": {},
   "outputs": [],
   "source": []
  }
 ],
 "metadata": {
  "kernelspec": {
   "display_name": "Python 3 (ipykernel)",
   "language": "python",
   "name": "python3"
  },
  "language_info": {
   "codemirror_mode": {
    "name": "ipython",
    "version": 3
   },
   "file_extension": ".py",
   "mimetype": "text/x-python",
   "name": "python",
   "nbconvert_exporter": "python",
   "pygments_lexer": "ipython3",
   "version": "3.9.13"
  }
 },
 "nbformat": 4,
 "nbformat_minor": 5
}
