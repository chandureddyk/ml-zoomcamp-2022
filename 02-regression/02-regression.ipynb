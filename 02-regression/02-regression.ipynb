{
 "cells": [
  {
   "cell_type": "markdown",
   "id": "85bb74c4",
   "metadata": {},
   "source": [
    "# 02-regression-homework- California Housing Prices - Homework\n",
    " [Goal - create a regression model for predicting housing prices (column 'median_house_value')]"
   ]
  },
  {
   "cell_type": "markdown",
   "id": "fabdad53",
   "metadata": {},
   "source": [
    "### Import libraries"
   ]
  },
  {
   "cell_type": "code",
   "execution_count": 1,
   "id": "a419c8b9",
   "metadata": {},
   "outputs": [],
   "source": [
    "import warnings\n",
    "warnings.filterwarnings('ignore') # setting ignore as a parameter\n",
    "import os as os\n",
    "import shutil as shutil\n",
    "import wget"
   ]
  },
  {
   "cell_type": "code",
   "execution_count": 2,
   "id": "012fce53",
   "metadata": {},
   "outputs": [],
   "source": [
    "import numpy as np\n",
    "import pandas as pd\n",
    "import seaborn as sns\n",
    "from matplotlib import pyplot as plt\n",
    "%matplotlib inline"
   ]
  },
  {
   "cell_type": "markdown",
   "id": "8d3acc24",
   "metadata": {},
   "source": [
    "### Get the Dataset : Hosuing Price"
   ]
  },
  {
   "cell_type": "code",
   "execution_count": 3,
   "id": "fd2c9a7a",
   "metadata": {},
   "outputs": [
    {
     "name": "stdout",
     "output_type": "stream",
     "text": [
      "\n",
      "Taking backup and deleting already existing file: housing.csv\n",
      "\n",
      "Downloading the file: housing.csv , from https://raw.githubusercontent.com/alexeygrigorev/datasets/master/housing.csv\n",
      "100% [..........................................................................] 1423529 / 1423529\n",
      "Downloading the file: housing.csv , Completed\n"
     ]
    }
   ],
   "source": [
    "# Get California Housing Prices data from Kaggle.    \n",
    "dataset_url = 'https://raw.githubusercontent.com/alexeygrigorev/datasets/master/housing.csv'\n",
    "dataset_filename = 'housing.csv'\n",
    "dataset_filename_bk =  'housing_bk.csv'\n",
    "\n",
    "# If file exists then take a backup and delete\n",
    "if(os.path.isfile(dataset_filename) ):\n",
    "    print(f'\\nTaking backup and deleting already existing file: {dataset_filename}')\n",
    "    shutil.copyfile(dataset_filename, dataset_filename_bk)\n",
    "    #remove the file\n",
    "    os.remove(dataset_filename)\n",
    "\n",
    "# Download latest file\n",
    "print(f'\\nDownloading the file: {dataset_filename} , from {dataset_url}')\n",
    "dataset_filename = wget.download(dataset_url)\n",
    "print(f'\\nDownloading the file: {dataset_filename} , Completed')"
   ]
  },
  {
   "cell_type": "markdown",
   "id": "73cd1d7e",
   "metadata": {},
   "source": [
    "### Exploratory Data Analysis (EDA)"
   ]
  },
  {
   "cell_type": "code",
   "execution_count": 4,
   "id": "fac32a2e",
   "metadata": {},
   "outputs": [
    {
     "name": "stdout",
     "output_type": "stream",
     "text": [
      "There are 20640 records and 10 columns in the Housing dataset\n"
     ]
    }
   ],
   "source": [
    "house_full_df = pd.read_csv(dataset_filename)\n",
    "house_df = house_full_df\n",
    "nRow, nColumn = house_df.shape\n",
    "print(f'There are {nRow} records and {nColumn} columns in the Housing dataset')"
   ]
  },
  {
   "cell_type": "code",
   "execution_count": 5,
   "id": "92e0d31a",
   "metadata": {},
   "outputs": [
    {
     "data": {
      "text/plain": [
       "longitude             float64\n",
       "latitude              float64\n",
       "housing_median_age    float64\n",
       "total_rooms           float64\n",
       "total_bedrooms        float64\n",
       "population            float64\n",
       "households            float64\n",
       "median_income         float64\n",
       "median_house_value    float64\n",
       "ocean_proximity        object\n",
       "dtype: object"
      ]
     },
     "execution_count": 5,
     "metadata": {},
     "output_type": "execute_result"
    }
   ],
   "source": [
    "# Display column/feature data type\n",
    "house_df.dtypes"
   ]
  },
  {
   "cell_type": "code",
   "execution_count": 6,
   "id": "d2aa1d53",
   "metadata": {},
   "outputs": [
    {
     "data": {
      "text/html": [
       "<div>\n",
       "<style scoped>\n",
       "    .dataframe tbody tr th:only-of-type {\n",
       "        vertical-align: middle;\n",
       "    }\n",
       "\n",
       "    .dataframe tbody tr th {\n",
       "        vertical-align: top;\n",
       "    }\n",
       "\n",
       "    .dataframe thead th {\n",
       "        text-align: right;\n",
       "    }\n",
       "</style>\n",
       "<table border=\"1\" class=\"dataframe\">\n",
       "  <thead>\n",
       "    <tr style=\"text-align: right;\">\n",
       "      <th></th>\n",
       "      <th>longitude</th>\n",
       "      <th>latitude</th>\n",
       "      <th>housing_median_age</th>\n",
       "      <th>total_rooms</th>\n",
       "      <th>total_bedrooms</th>\n",
       "      <th>population</th>\n",
       "      <th>households</th>\n",
       "      <th>median_income</th>\n",
       "      <th>median_house_value</th>\n",
       "      <th>ocean_proximity</th>\n",
       "    </tr>\n",
       "  </thead>\n",
       "  <tbody>\n",
       "    <tr>\n",
       "      <th>0</th>\n",
       "      <td>-122.23</td>\n",
       "      <td>37.88</td>\n",
       "      <td>41.0</td>\n",
       "      <td>880.0</td>\n",
       "      <td>129.0</td>\n",
       "      <td>322.0</td>\n",
       "      <td>126.0</td>\n",
       "      <td>8.3252</td>\n",
       "      <td>452600.0</td>\n",
       "      <td>NEAR BAY</td>\n",
       "    </tr>\n",
       "    <tr>\n",
       "      <th>1</th>\n",
       "      <td>-122.22</td>\n",
       "      <td>37.86</td>\n",
       "      <td>21.0</td>\n",
       "      <td>7099.0</td>\n",
       "      <td>1106.0</td>\n",
       "      <td>2401.0</td>\n",
       "      <td>1138.0</td>\n",
       "      <td>8.3014</td>\n",
       "      <td>358500.0</td>\n",
       "      <td>NEAR BAY</td>\n",
       "    </tr>\n",
       "    <tr>\n",
       "      <th>2</th>\n",
       "      <td>-122.24</td>\n",
       "      <td>37.85</td>\n",
       "      <td>52.0</td>\n",
       "      <td>1467.0</td>\n",
       "      <td>190.0</td>\n",
       "      <td>496.0</td>\n",
       "      <td>177.0</td>\n",
       "      <td>7.2574</td>\n",
       "      <td>352100.0</td>\n",
       "      <td>NEAR BAY</td>\n",
       "    </tr>\n",
       "    <tr>\n",
       "      <th>3</th>\n",
       "      <td>-122.25</td>\n",
       "      <td>37.85</td>\n",
       "      <td>52.0</td>\n",
       "      <td>1274.0</td>\n",
       "      <td>235.0</td>\n",
       "      <td>558.0</td>\n",
       "      <td>219.0</td>\n",
       "      <td>5.6431</td>\n",
       "      <td>341300.0</td>\n",
       "      <td>NEAR BAY</td>\n",
       "    </tr>\n",
       "    <tr>\n",
       "      <th>4</th>\n",
       "      <td>-122.25</td>\n",
       "      <td>37.85</td>\n",
       "      <td>52.0</td>\n",
       "      <td>1627.0</td>\n",
       "      <td>280.0</td>\n",
       "      <td>565.0</td>\n",
       "      <td>259.0</td>\n",
       "      <td>3.8462</td>\n",
       "      <td>342200.0</td>\n",
       "      <td>NEAR BAY</td>\n",
       "    </tr>\n",
       "  </tbody>\n",
       "</table>\n",
       "</div>"
      ],
      "text/plain": [
       "   longitude  latitude  housing_median_age  total_rooms  total_bedrooms  \\\n",
       "0    -122.23     37.88                41.0        880.0           129.0   \n",
       "1    -122.22     37.86                21.0       7099.0          1106.0   \n",
       "2    -122.24     37.85                52.0       1467.0           190.0   \n",
       "3    -122.25     37.85                52.0       1274.0           235.0   \n",
       "4    -122.25     37.85                52.0       1627.0           280.0   \n",
       "\n",
       "   population  households  median_income  median_house_value ocean_proximity  \n",
       "0       322.0       126.0         8.3252            452600.0        NEAR BAY  \n",
       "1      2401.0      1138.0         8.3014            358500.0        NEAR BAY  \n",
       "2       496.0       177.0         7.2574            352100.0        NEAR BAY  \n",
       "3       558.0       219.0         5.6431            341300.0        NEAR BAY  \n",
       "4       565.0       259.0         3.8462            342200.0        NEAR BAY  "
      ]
     },
     "execution_count": 6,
     "metadata": {},
     "output_type": "execute_result"
    }
   ],
   "source": [
    "# display initial few entries of data set\n",
    "house_df.head()"
   ]
  },
  {
   "cell_type": "code",
   "execution_count": 7,
   "id": "71b0b784",
   "metadata": {},
   "outputs": [
    {
     "name": "stdout",
     "output_type": "stream",
     "text": [
      "<class 'pandas.core.frame.DataFrame'>\n",
      "RangeIndex: 20640 entries, 0 to 20639\n",
      "Data columns (total 10 columns):\n",
      " #   Column              Non-Null Count  Dtype  \n",
      "---  ------              --------------  -----  \n",
      " 0   longitude           20640 non-null  float64\n",
      " 1   latitude            20640 non-null  float64\n",
      " 2   housing_median_age  20640 non-null  float64\n",
      " 3   total_rooms         20640 non-null  float64\n",
      " 4   total_bedrooms      20433 non-null  float64\n",
      " 5   population          20640 non-null  float64\n",
      " 6   households          20640 non-null  float64\n",
      " 7   median_income       20640 non-null  float64\n",
      " 8   median_house_value  20640 non-null  float64\n",
      " 9   ocean_proximity     20640 non-null  object \n",
      "dtypes: float64(9), object(1)\n",
      "memory usage: 1.6+ MB\n"
     ]
    }
   ],
   "source": [
    "# Display Data information\n",
    "house_df.info()"
   ]
  },
  {
   "cell_type": "code",
   "execution_count": 8,
   "id": "61ea9b5c",
   "metadata": {
    "scrolled": true
   },
   "outputs": [
    {
     "data": {
      "text/html": [
       "<div>\n",
       "<style scoped>\n",
       "    .dataframe tbody tr th:only-of-type {\n",
       "        vertical-align: middle;\n",
       "    }\n",
       "\n",
       "    .dataframe tbody tr th {\n",
       "        vertical-align: top;\n",
       "    }\n",
       "\n",
       "    .dataframe thead th {\n",
       "        text-align: right;\n",
       "    }\n",
       "</style>\n",
       "<table border=\"1\" class=\"dataframe\">\n",
       "  <thead>\n",
       "    <tr style=\"text-align: right;\">\n",
       "      <th></th>\n",
       "      <th>longitude</th>\n",
       "      <th>latitude</th>\n",
       "      <th>housing_median_age</th>\n",
       "      <th>total_rooms</th>\n",
       "      <th>total_bedrooms</th>\n",
       "      <th>population</th>\n",
       "      <th>households</th>\n",
       "      <th>median_income</th>\n",
       "      <th>median_house_value</th>\n",
       "    </tr>\n",
       "  </thead>\n",
       "  <tbody>\n",
       "    <tr>\n",
       "      <th>count</th>\n",
       "      <td>20640.000000</td>\n",
       "      <td>20640.000000</td>\n",
       "      <td>20640.000000</td>\n",
       "      <td>20640.000000</td>\n",
       "      <td>20433.000000</td>\n",
       "      <td>20640.000000</td>\n",
       "      <td>20640.000000</td>\n",
       "      <td>20640.000000</td>\n",
       "      <td>20640.000000</td>\n",
       "    </tr>\n",
       "    <tr>\n",
       "      <th>mean</th>\n",
       "      <td>-119.569704</td>\n",
       "      <td>35.631861</td>\n",
       "      <td>28.639486</td>\n",
       "      <td>2635.763081</td>\n",
       "      <td>537.870553</td>\n",
       "      <td>1425.476744</td>\n",
       "      <td>499.539680</td>\n",
       "      <td>3.870671</td>\n",
       "      <td>206855.816909</td>\n",
       "    </tr>\n",
       "    <tr>\n",
       "      <th>std</th>\n",
       "      <td>2.003532</td>\n",
       "      <td>2.135952</td>\n",
       "      <td>12.585558</td>\n",
       "      <td>2181.615252</td>\n",
       "      <td>421.385070</td>\n",
       "      <td>1132.462122</td>\n",
       "      <td>382.329753</td>\n",
       "      <td>1.899822</td>\n",
       "      <td>115395.615874</td>\n",
       "    </tr>\n",
       "    <tr>\n",
       "      <th>min</th>\n",
       "      <td>-124.350000</td>\n",
       "      <td>32.540000</td>\n",
       "      <td>1.000000</td>\n",
       "      <td>2.000000</td>\n",
       "      <td>1.000000</td>\n",
       "      <td>3.000000</td>\n",
       "      <td>1.000000</td>\n",
       "      <td>0.499900</td>\n",
       "      <td>14999.000000</td>\n",
       "    </tr>\n",
       "    <tr>\n",
       "      <th>25%</th>\n",
       "      <td>-121.800000</td>\n",
       "      <td>33.930000</td>\n",
       "      <td>18.000000</td>\n",
       "      <td>1447.750000</td>\n",
       "      <td>296.000000</td>\n",
       "      <td>787.000000</td>\n",
       "      <td>280.000000</td>\n",
       "      <td>2.563400</td>\n",
       "      <td>119600.000000</td>\n",
       "    </tr>\n",
       "    <tr>\n",
       "      <th>50%</th>\n",
       "      <td>-118.490000</td>\n",
       "      <td>34.260000</td>\n",
       "      <td>29.000000</td>\n",
       "      <td>2127.000000</td>\n",
       "      <td>435.000000</td>\n",
       "      <td>1166.000000</td>\n",
       "      <td>409.000000</td>\n",
       "      <td>3.534800</td>\n",
       "      <td>179700.000000</td>\n",
       "    </tr>\n",
       "    <tr>\n",
       "      <th>75%</th>\n",
       "      <td>-118.010000</td>\n",
       "      <td>37.710000</td>\n",
       "      <td>37.000000</td>\n",
       "      <td>3148.000000</td>\n",
       "      <td>647.000000</td>\n",
       "      <td>1725.000000</td>\n",
       "      <td>605.000000</td>\n",
       "      <td>4.743250</td>\n",
       "      <td>264725.000000</td>\n",
       "    </tr>\n",
       "    <tr>\n",
       "      <th>max</th>\n",
       "      <td>-114.310000</td>\n",
       "      <td>41.950000</td>\n",
       "      <td>52.000000</td>\n",
       "      <td>39320.000000</td>\n",
       "      <td>6445.000000</td>\n",
       "      <td>35682.000000</td>\n",
       "      <td>6082.000000</td>\n",
       "      <td>15.000100</td>\n",
       "      <td>500001.000000</td>\n",
       "    </tr>\n",
       "  </tbody>\n",
       "</table>\n",
       "</div>"
      ],
      "text/plain": [
       "          longitude      latitude  housing_median_age   total_rooms  \\\n",
       "count  20640.000000  20640.000000        20640.000000  20640.000000   \n",
       "mean    -119.569704     35.631861           28.639486   2635.763081   \n",
       "std        2.003532      2.135952           12.585558   2181.615252   \n",
       "min     -124.350000     32.540000            1.000000      2.000000   \n",
       "25%     -121.800000     33.930000           18.000000   1447.750000   \n",
       "50%     -118.490000     34.260000           29.000000   2127.000000   \n",
       "75%     -118.010000     37.710000           37.000000   3148.000000   \n",
       "max     -114.310000     41.950000           52.000000  39320.000000   \n",
       "\n",
       "       total_bedrooms    population    households  median_income  \\\n",
       "count    20433.000000  20640.000000  20640.000000   20640.000000   \n",
       "mean       537.870553   1425.476744    499.539680       3.870671   \n",
       "std        421.385070   1132.462122    382.329753       1.899822   \n",
       "min          1.000000      3.000000      1.000000       0.499900   \n",
       "25%        296.000000    787.000000    280.000000       2.563400   \n",
       "50%        435.000000   1166.000000    409.000000       3.534800   \n",
       "75%        647.000000   1725.000000    605.000000       4.743250   \n",
       "max       6445.000000  35682.000000   6082.000000      15.000100   \n",
       "\n",
       "       median_house_value  \n",
       "count        20640.000000  \n",
       "mean        206855.816909  \n",
       "std         115395.615874  \n",
       "min          14999.000000  \n",
       "25%         119600.000000  \n",
       "50%         179700.000000  \n",
       "75%         264725.000000  \n",
       "max         500001.000000  "
      ]
     },
     "execution_count": 8,
     "metadata": {},
     "output_type": "execute_result"
    }
   ],
   "source": [
    "# Display statistical information\n",
    "house_df.describe()"
   ]
  },
  {
   "cell_type": "markdown",
   "id": "c23b9cd3",
   "metadata": {},
   "source": [
    "### Look at the median_house_value variable. Does it have a long tail?"
   ]
  },
  {
   "cell_type": "code",
   "execution_count": 9,
   "id": "21954c8d",
   "metadata": {},
   "outputs": [
    {
     "data": {
      "image/png": "[encoded data removed]",
      "text/plain": [
       "<Figure size 432x288 with 1 Axes>"
      ]
     },
     "metadata": {
      "needs_background": "light"
     },
     "output_type": "display_data"
    }
   ],
   "source": [
    "plt.figure(figsize=(6, 4))\n",
    "\n",
    "sns.histplot(house_df.median_house_value, bins=40, alpha=1)\n",
    "plt.ylabel('Frequency')\n",
    "plt.xlabel('Price')\n",
    "plt.title('Distribution of median_house_value in Housing Price Dataset')\n",
    "\n",
    "plt.show()"
   ]
  },
  {
   "cell_type": "markdown",
   "id": "3f339695",
   "metadata": {},
   "source": [
    "Observation: Based on the above plot, \"median_house_value\" distribution is skewed to the left  and no long tail observed"
   ]
  },
  {
   "cell_type": "code",
   "execution_count": 10,
   "id": "a88f1e92",
   "metadata": {},
   "outputs": [
    {
     "data": {
      "image/png": "[encoded data removed]",
      "text/plain": [
       "<Figure size 432x288 with 1 Axes>"
      ]
     },
     "metadata": {
      "needs_background": "light"
     },
     "output_type": "display_data"
    }
   ],
   "source": [
    "log_median_house_value = np.log1p(house_df.median_house_value)\n",
    "\n",
    "plt.figure(figsize=(6, 4))\n",
    "\n",
    "sns.histplot(log_median_house_value, bins=40, alpha=1)\n",
    "plt.ylabel('Frequency')\n",
    "plt.xlabel('Log(Price + 1)')\n",
    "plt.title('Distribution of median_house_value after log tranformation, in Housing Price Dataset')\n",
    "\n",
    "plt.show()"
   ]
  },
  {
   "cell_type": "markdown",
   "id": "77e4b9e3",
   "metadata": {},
   "source": [
    "Observation: Based on the above log plot, \"median_house_value\" distribution is normally distributed"
   ]
  },
  {
   "cell_type": "markdown",
   "id": "84c4290b",
   "metadata": {},
   "source": [
    "### Feature Selection"
   ]
  },
  {
   "cell_type": "markdown",
   "id": "8babf2af",
   "metadata": {},
   "source": [
    "For the rest of the homework, you'll need to use only these columns:\n",
    "\n",
    "'latitude',\n",
    "'longitude',\n",
    "'housing_median_age',\n",
    "'total_rooms',\n",
    "'total_bedrooms',\n",
    "'population',\n",
    "'households',\n",
    "'median_income',\n",
    "'median_house_value'\n",
    "Select only them."
   ]
  },
  {
   "cell_type": "code",
   "execution_count": 11,
   "id": "6fc41e00",
   "metadata": {},
   "outputs": [],
   "source": [
    "# Columns of interest\n",
    "selective_columns = [   'latitude',\n",
    "                        'longitude',\n",
    "                        'housing_median_age',\n",
    "                        'total_rooms',\n",
    "                        'total_bedrooms',\n",
    "                        'population',\n",
    "                        'households',\n",
    "                        'median_income',\n",
    "                        'median_house_value']"
   ]
  },
  {
   "cell_type": "code",
   "execution_count": 12,
   "id": "ac0fd280",
   "metadata": {},
   "outputs": [],
   "source": [
    "# Filter selective columns\n",
    "house_sel_df = house_df [selective_columns]"
   ]
  },
  {
   "cell_type": "code",
   "execution_count": 13,
   "id": "cd6da32e",
   "metadata": {},
   "outputs": [
    {
     "data": {
      "text/html": [
       "<div>\n",
       "<style scoped>\n",
       "    .dataframe tbody tr th:only-of-type {\n",
       "        vertical-align: middle;\n",
       "    }\n",
       "\n",
       "    .dataframe tbody tr th {\n",
       "        vertical-align: top;\n",
       "    }\n",
       "\n",
       "    .dataframe thead th {\n",
       "        text-align: right;\n",
       "    }\n",
       "</style>\n",
       "<table border=\"1\" class=\"dataframe\">\n",
       "  <thead>\n",
       "    <tr style=\"text-align: right;\">\n",
       "      <th></th>\n",
       "      <th>latitude</th>\n",
       "      <th>longitude</th>\n",
       "      <th>housing_median_age</th>\n",
       "      <th>total_rooms</th>\n",
       "      <th>total_bedrooms</th>\n",
       "      <th>population</th>\n",
       "      <th>households</th>\n",
       "      <th>median_income</th>\n",
       "      <th>median_house_value</th>\n",
       "    </tr>\n",
       "  </thead>\n",
       "  <tbody>\n",
       "    <tr>\n",
       "      <th>0</th>\n",
       "      <td>37.88</td>\n",
       "      <td>-122.23</td>\n",
       "      <td>41.0</td>\n",
       "      <td>880.0</td>\n",
       "      <td>129.0</td>\n",
       "      <td>322.0</td>\n",
       "      <td>126.0</td>\n",
       "      <td>8.3252</td>\n",
       "      <td>452600.0</td>\n",
       "    </tr>\n",
       "    <tr>\n",
       "      <th>1</th>\n",
       "      <td>37.86</td>\n",
       "      <td>-122.22</td>\n",
       "      <td>21.0</td>\n",
       "      <td>7099.0</td>\n",
       "      <td>1106.0</td>\n",
       "      <td>2401.0</td>\n",
       "      <td>1138.0</td>\n",
       "      <td>8.3014</td>\n",
       "      <td>358500.0</td>\n",
       "    </tr>\n",
       "    <tr>\n",
       "      <th>2</th>\n",
       "      <td>37.85</td>\n",
       "      <td>-122.24</td>\n",
       "      <td>52.0</td>\n",
       "      <td>1467.0</td>\n",
       "      <td>190.0</td>\n",
       "      <td>496.0</td>\n",
       "      <td>177.0</td>\n",
       "      <td>7.2574</td>\n",
       "      <td>352100.0</td>\n",
       "    </tr>\n",
       "    <tr>\n",
       "      <th>3</th>\n",
       "      <td>37.85</td>\n",
       "      <td>-122.25</td>\n",
       "      <td>52.0</td>\n",
       "      <td>1274.0</td>\n",
       "      <td>235.0</td>\n",
       "      <td>558.0</td>\n",
       "      <td>219.0</td>\n",
       "      <td>5.6431</td>\n",
       "      <td>341300.0</td>\n",
       "    </tr>\n",
       "    <tr>\n",
       "      <th>4</th>\n",
       "      <td>37.85</td>\n",
       "      <td>-122.25</td>\n",
       "      <td>52.0</td>\n",
       "      <td>1627.0</td>\n",
       "      <td>280.0</td>\n",
       "      <td>565.0</td>\n",
       "      <td>259.0</td>\n",
       "      <td>3.8462</td>\n",
       "      <td>342200.0</td>\n",
       "    </tr>\n",
       "  </tbody>\n",
       "</table>\n",
       "</div>"
      ],
      "text/plain": [
       "   latitude  longitude  housing_median_age  total_rooms  total_bedrooms  \\\n",
       "0     37.88    -122.23                41.0        880.0           129.0   \n",
       "1     37.86    -122.22                21.0       7099.0          1106.0   \n",
       "2     37.85    -122.24                52.0       1467.0           190.0   \n",
       "3     37.85    -122.25                52.0       1274.0           235.0   \n",
       "4     37.85    -122.25                52.0       1627.0           280.0   \n",
       "\n",
       "   population  households  median_income  median_house_value  \n",
       "0       322.0       126.0         8.3252            452600.0  \n",
       "1      2401.0      1138.0         8.3014            358500.0  \n",
       "2       496.0       177.0         7.2574            352100.0  \n",
       "3       558.0       219.0         5.6431            341300.0  \n",
       "4       565.0       259.0         3.8462            342200.0  "
      ]
     },
     "execution_count": 13,
     "metadata": {},
     "output_type": "execute_result"
    }
   ],
   "source": [
    "house_sel_df.head()"
   ]
  },
  {
   "cell_type": "markdown",
   "id": "03c5db7c",
   "metadata": {},
   "source": [
    "## Question 1: Find a feature with missing values. How many missing values does it have?"
   ]
  },
  {
   "cell_type": "code",
   "execution_count": 14,
   "id": "3ed79e9c",
   "metadata": {},
   "outputs": [
    {
     "data": {
      "text/plain": [
       "latitude                0\n",
       "longitude               0\n",
       "housing_median_age      0\n",
       "total_rooms             0\n",
       "total_bedrooms        207\n",
       "population              0\n",
       "households              0\n",
       "median_income           0\n",
       "median_house_value      0\n",
       "dtype: int64"
      ]
     },
     "execution_count": 14,
     "metadata": {},
     "output_type": "execute_result"
    }
   ],
   "source": [
    "# Check for Features with missing values\n",
    "house_sel_df.isna().sum()"
   ]
  },
  {
   "cell_type": "code",
   "execution_count": 15,
   "id": "a8460b4d",
   "metadata": {},
   "outputs": [
    {
     "name": "stdout",
     "output_type": "stream",
     "text": [
      "Total missing values in column:total_bedrooms -> 207\n"
     ]
    }
   ],
   "source": [
    "#extract the columns name from Dataset\n",
    "column_name = np.array(house_sel_df.columns.values)\n",
    "\n",
    "# Function to display Features with missing values and how many missing values\n",
    "def features_with_missing_value(column_name):\n",
    "    for c in column_name:\n",
    "        if( pd.isnull(house_sel_df[c]).values.ravel().sum() != 0):\n",
    "            print(\"Total missing values in column:{} ->\".format(c),pd.isna(house_sel_df[c]).values.ravel().sum())\n",
    "\n",
    "\n",
    "# Display features with no.of instances of missing value\n",
    "features_with_missing_value(column_name)"
   ]
  },
  {
   "cell_type": "markdown",
   "id": "8ddfb88b",
   "metadata": {},
   "source": [
    "### Question 2: What's the median (50% percentile) for variable 'population'?"
   ]
  },
  {
   "cell_type": "code",
   "execution_count": 16,
   "id": "84b4981d",
   "metadata": {},
   "outputs": [
    {
     "name": "stdout",
     "output_type": "stream",
     "text": [
      "Q2 Answer --> median (50% percentile) for variable 'population' =  1166.0\n"
     ]
    }
   ],
   "source": [
    "median =  np.median(house_sel_df['population'])\n",
    "print(\"Q2 Answer --> median (50% percentile) for variable 'population' = \", median)"
   ]
  },
  {
   "cell_type": "markdown",
   "id": "27bf23fb",
   "metadata": {},
   "source": [
    "# Split the data"
   ]
  },
  {
   "cell_type": "raw",
   "id": "0ad41cf2",
   "metadata": {},
   "source": [
    "Shuffle the initial dataset, use seed 42.\n",
    "Split your data in train/val/test sets, with 60%/20%/20% distribution.\n",
    "Make sure that the target value ('median_house_value') is not in your dataframe.\n",
    "Apply the log transformation to the median_house_value variable using the np.log1p() function."
   ]
  },
  {
   "cell_type": "code",
   "execution_count": 17,
   "id": "4ab50975",
   "metadata": {},
   "outputs": [],
   "source": [
    "# Change here the Validation and Test Percentage\n",
    "VALIDATION_SET_PER = 0.2\n",
    "TEST_SET_PER = 0.2\n",
    "\n",
    "n = len(house_sel_df)\n",
    "\n",
    "# Use seed \n",
    "np.random.seed(42)\n",
    "\n",
    "# Shuffle the initial dataset\n",
    "idx = np.arange(n)\n",
    "np.random.shuffle(idx)\n",
    "\n",
    "# Split  data in train/val/test sets, with 60%/20%/20% distribution.\n",
    "n_val = int(n * VALIDATION_SET_PER)\n",
    "n_test = int(n * TEST_SET_PER)\n",
    "n_train = n - (n_val + n_test)\n",
    "\n",
    "\n",
    "house_sel_df_shuffled = house_sel_df.iloc[idx]\n",
    "\n",
    "df_train = house_sel_df_shuffled.iloc[:n_train].copy()\n",
    "df_val = house_sel_df_shuffled.iloc[n_train:n_train+n_val].copy()\n",
    "df_test = house_sel_df_shuffled.iloc[n_train+n_val:].copy()"
   ]
  },
  {
   "cell_type": "code",
   "execution_count": 18,
   "id": "cee66d74",
   "metadata": {},
   "outputs": [
    {
     "name": "stdout",
     "output_type": "stream",
     "text": [
      "\n",
      " n_val: 4128, n_test: 4128 , n_train: 12384, n: 20640  ---> Data Splitting Successful\n"
     ]
    }
   ],
   "source": [
    "# Verify the sum of data in train/val/test sets\n",
    "if(n == n_val+n_test+n_train):\n",
    "    print(f'\\n n_val: {n_val}, n_test: {n_test} , n_train: {n_train}, n: {n}  ---> Data Splitting Successful')\n",
    "else:\n",
    "    print(f'\\n n_val: {n_val}, n_test: {n_test} , n_train: {n_train} n: {n}  ---> Data Splitting Error')"
   ]
  },
  {
   "cell_type": "code",
   "execution_count": 19,
   "id": "c3d58dd2",
   "metadata": {},
   "outputs": [],
   "source": [
    "# Make sure that the target value ('median_house_value') is not in your dataframe.\n",
    "target_variable = 'median_house_value'\n",
    "y_train = df_train[target_variable]\n",
    "y_val = df_val[target_variable]\n",
    "y_test = df_test[target_variable]\n",
    "\n",
    "# remove target variable from  train, validation, test data set\n",
    "del df_train[target_variable]\n",
    "del df_val[target_variable]\n",
    "del df_test[target_variable]"
   ]
  },
  {
   "cell_type": "code",
   "execution_count": 20,
   "id": "0964ef84",
   "metadata": {},
   "outputs": [],
   "source": [
    "#Apply the log transformation to the median_house_value variable using the np.log1p() function.\n",
    "y_train = np.log1p(y_train.values)\n",
    "y_val = np.log1p(y_val.values)\n",
    "y_test = np.log1p(y_test.values)"
   ]
  },
  {
   "cell_type": "raw",
   "id": "43d1fd29",
   "metadata": {},
   "source": [
    "Question 3\n",
    "We need to deal with missing values for the column from Q1.\n",
    "We have two options: fill it with 0 or with the mean of this variable.\n",
    "Try both options. For each, train a linear regression model without regularization using the code from the lessons.\n",
    "For computing the mean, use the training only!\n",
    "Use the validation dataset to evaluate the models and compare the RMSE of each option.\n",
    "Round the RMSE scores to 2 decimal digits using round(score, 2)\n",
    "Which option gives better RMSE?"
   ]
  },
  {
   "cell_type": "markdown",
   "id": "57b626f0",
   "metadata": {},
   "source": [
    "## Linear regression model without regularization"
   ]
  },
  {
   "cell_type": "code",
   "execution_count": 21,
   "id": "1b8c63d6",
   "metadata": {},
   "outputs": [],
   "source": [
    "# Linear Regression\n",
    "def train_linear_regression(X, y):\n",
    "    ones = np.ones(X.shape[0])\n",
    "    X = np.column_stack([ones, X])\n",
    "\n",
    "    XTX = X.T.dot(X)\n",
    "    XTX_inv = np.linalg.inv(XTX)\n",
    "    w = XTX_inv.dot(X.T).dot(y)\n",
    "    \n",
    "    return w[0], w[1:]\n",
    "\n",
    "# Root Mean Square Error\n",
    "def rmse(y, y_pred):\n",
    "    error = y_pred - y\n",
    "    mse = (error ** 2).mean()\n",
    "    return np.sqrt(mse)"
   ]
  },
  {
   "cell_type": "code",
   "execution_count": 22,
   "id": "cb12796e",
   "metadata": {},
   "outputs": [],
   "source": [
    "def prepare_X(df,fillna_value=0):\n",
    "    X = df.copy()\n",
    "    X = X.fillna(fillna_value).values\n",
    "    return X"
   ]
  },
  {
   "cell_type": "markdown",
   "id": "59535ac4",
   "metadata": {},
   "source": [
    "### Linear regression model without regularization and filling  missing values with zero"
   ]
  },
  {
   "cell_type": "code",
   "execution_count": 23,
   "id": "37cf1d0c",
   "metadata": {},
   "outputs": [
    {
     "data": {
      "text/plain": [
       "(-11.686975241630112,\n",
       " array([-2.82087184e-01, -2.76255120e-01,  2.91329621e-03, -8.64531514e-06,\n",
       "         1.50811922e-04, -2.08205659e-04,  5.69546573e-04,  1.71308139e-01]))"
      ]
     },
     "execution_count": 23,
     "metadata": {},
     "output_type": "execute_result"
    }
   ],
   "source": [
    "X_train = prepare_X(df_train,fillna_value=0)\n",
    "w_0, w = train_linear_regression(X_train , y_train)\n",
    "w_0, w "
   ]
  },
  {
   "cell_type": "code",
   "execution_count": 24,
   "id": "45550301",
   "metadata": {},
   "outputs": [
    {
     "name": "stdout",
     "output_type": "stream",
     "text": [
      "Score = 0.3295330365228028 , Score(8) = 0.32953304 , Score(3) = 0.33\n"
     ]
    }
   ],
   "source": [
    "X_val = prepare_X(df_val,fillna_value=0)\n",
    "y_pred = w_0 + X_val@w\n",
    "\n",
    "score =rmse(y_val, y_pred)\n",
    "rsme_zero = round(score,3)\n",
    "print(f'Score = {score} , Score(8) = {round(score,8)} , Score(3) = {round(score,3)}')"
   ]
  },
  {
   "cell_type": "markdown",
   "id": "7d6386ef",
   "metadata": {},
   "source": [
    "### Linear regression model without regularization and filling  missing values with mean"
   ]
  },
  {
   "cell_type": "code",
   "execution_count": 25,
   "id": "c46e2c5e",
   "metadata": {},
   "outputs": [
    {
     "data": {
      "text/plain": [
       "(-11.759590872403509,\n",
       " array([-2.82182103e-01, -2.76809637e-01,  2.93033801e-03, -1.48543785e-05,\n",
       "         2.48054046e-04, -2.03763456e-04,  4.87004092e-04,  1.73086593e-01]))"
      ]
     },
     "execution_count": 25,
     "metadata": {},
     "output_type": "execute_result"
    }
   ],
   "source": [
    "total_bedrooms_mean = df_train['total_bedrooms'].mean()\n",
    "X_train = prepare_X(df_train,fillna_value=total_bedrooms_mean)\n",
    "w_0, w = train_linear_regression(X_train , y_train)\n",
    "w_0, w"
   ]
  },
  {
   "cell_type": "code",
   "execution_count": 26,
   "id": "f267d927",
   "metadata": {},
   "outputs": [
    {
     "name": "stdout",
     "output_type": "stream",
     "text": [
      "Score = 0.32901954390045857 , Score(8) = 0.32901954 , Score(3) = 0.329\n"
     ]
    }
   ],
   "source": [
    "X_val = prepare_X(df_val,fillna_value=total_bedrooms_mean)\n",
    "y_pred = w_0 + X_val@w\n",
    "\n",
    "score =rmse(y_val, y_pred)\n",
    "rsme_mean = round(score,3)\n",
    "print(f'Score = {score} , Score(8) = {round(score,8)} , Score(3) = {round(score,3)}')"
   ]
  },
  {
   "cell_type": "markdown",
   "id": "88eec41d",
   "metadata": {},
   "source": [
    "Q3 Answer --> which option gives better rsme :Both Equally good"
   ]
  },
  {
   "cell_type": "code",
   "execution_count": null,
   "id": "edb3ba1b",
   "metadata": {},
   "outputs": [],
   "source": []
  },
  {
   "cell_type": "raw",
   "id": "f83d9358",
   "metadata": {},
   "source": [
    "Question 4\n",
    "Now let's train a regularized linear regression.\n",
    "For this question, fill the NAs with 0.\n",
    "Try different values of r from this list: [0, 0.000001, 0.0001, 0.001, 0.01, 0.1, 1, 5, 10].\n",
    "Use RMSE to evaluate the model on the validation dataset.\n",
    "Round the RMSE scores to 2 decimal digits.\n",
    "Which r gives the best RMSE?\n",
    "If there are multiple options, select the smallest r.\n",
    "\n",
    "Options:\n",
    "\n",
    "0\n",
    "0.000001\n",
    "0.001\n",
    "0.0001"
   ]
  },
  {
   "cell_type": "markdown",
   "id": "b6d520b2",
   "metadata": {},
   "source": [
    "# Linear regression model with regularization"
   ]
  },
  {
   "cell_type": "code",
   "execution_count": 27,
   "id": "ca26c9d2",
   "metadata": {},
   "outputs": [],
   "source": [
    "def train_linear_regression_reg(X, y, r=0.0):\n",
    "    ones = np.ones(X.shape[0])\n",
    "    X = np.column_stack([ones, X])\n",
    "\n",
    "    XTX = X.T.dot(X)\n",
    "    reg = r * np.eye(XTX.shape[0])\n",
    "    XTX = XTX + reg\n",
    "\n",
    "    XTX_inv = np.linalg.inv(XTX)\n",
    "    w = XTX_inv.dot(X.T).dot(y)\n",
    "\n",
    "    return w[0], w[1:]"
   ]
  },
  {
   "cell_type": "code",
   "execution_count": 28,
   "id": "24623a8d",
   "metadata": {},
   "outputs": [],
   "source": [
    "X_train = prepare_X(df_train,fillna_value=0)\n",
    "X_val = prepare_X(df_val,fillna_value=0)"
   ]
  },
  {
   "cell_type": "code",
   "execution_count": 29,
   "id": "89b1d616",
   "metadata": {},
   "outputs": [],
   "source": [
    "r_list = [0, 0.000001, 0.0001, 0.001, 0.01, 0.1, 1, 5, 10]"
   ]
  },
  {
   "cell_type": "code",
   "execution_count": 30,
   "id": "8cacea8d",
   "metadata": {},
   "outputs": [
    {
     "name": "stdout",
     "output_type": "stream",
     "text": [
      "RMSE score with r:0 is   0.33 / 0.3295330365228028\n",
      "RMSE score with r:1e-06 is   0.33 / 0.32953303616529916\n",
      "RMSE score with r:0.0001 is   0.33 / 0.32953300097053273\n",
      "RMSE score with r:0.001 is   0.33 / 0.32953270386733674\n",
      "RMSE score with r:0.01 is   0.33 / 0.3295319365992661\n",
      "RMSE score with r:0.1 is   0.33 / 0.3296947205396713\n",
      "RMSE score with r:1 is   0.33 / 0.3337887220007077\n",
      "RMSE score with r:5 is   0.34 / 0.3392485345504316\n",
      "RMSE score with r:10 is   0.34 / 0.34060638078083694\n"
     ]
    }
   ],
   "source": [
    "for r in r_list:\n",
    "    #Train model    \n",
    "    w_0, w = train_linear_regression_reg(X_train , y_train,r=r)\n",
    "    #Prediction    \n",
    "    y_pred = w_0 + X_val@w\n",
    "\n",
    "    score =rmse(y_val, y_pred)\n",
    "    print('RMSE score with r:{} is   {} / {}'.format(r,round(score,2),score))    "
   ]
  },
  {
   "cell_type": "raw",
   "id": "d6bbd75d",
   "metadata": {},
   "source": [
    "Q4 Answer --> Which r gives the best RMSE? If there are multiple options, select the smallest r : 0"
   ]
  },
  {
   "cell_type": "code",
   "execution_count": null,
   "id": "35f14fe8",
   "metadata": {},
   "outputs": [],
   "source": []
  },
  {
   "cell_type": "raw",
   "id": "a3245283",
   "metadata": {},
   "source": [
    "Question 5\n",
    "We used seed 42 for splitting the data. Let's find out how selecting the seed influences our score.\n",
    "Try different seed values: [0, 1, 2, 3, 4, 5, 6, 7, 8, 9].\n",
    "For each seed, do the train/validation/test split with 60%/20%/20% distribution.\n",
    "Fill the missing values with 0 and train a model without regularization.\n",
    "For each seed, evaluate the model on the validation dataset and collect the RMSE scores.\n",
    "What's the standard deviation of all the scores? To compute the standard deviation, use np.std.\n",
    "Round the result to 3 decimal digits (round(std, 3))"
   ]
  },
  {
   "cell_type": "code",
   "execution_count": 31,
   "id": "5e43d001",
   "metadata": {},
   "outputs": [],
   "source": [
    "def train_val_test(df,seed, val_per, test_per, target_variable):\n",
    "    \n",
    "    np.random.seed(seed)\n",
    "\n",
    "    n = len(df)\n",
    "\n",
    "    n_val = int(val_per * n)\n",
    "    n_test = int(test_per * n)\n",
    "    n_train = n - (n_val + n_test)\n",
    "\n",
    "    idx = np.arange(n)\n",
    "    np.random.shuffle(idx)\n",
    "\n",
    "    df_shuffled = df.iloc[idx]\n",
    "\n",
    "    df_train = df_shuffled.iloc[:n_train].copy()\n",
    "    df_val = df_shuffled.iloc[n_train:n_train+n_val].copy()\n",
    "    df_test = df_shuffled.iloc[n_train+n_val:].copy()\n",
    "    \n",
    "    y_train = df_train[target_variable]\n",
    "    y_val = df_val[target_variable]\n",
    "    y_test = df_test[target_variable]\n",
    "    \n",
    "    del df_train[target_variable]\n",
    "    del df_val[target_variable]\n",
    "    del df_test[target_variable]\n",
    "    \n",
    "    y_train = np.log1p(y_train.values)\n",
    "    y_val = np.log1p(y_val.values)\n",
    "    y_test = np.log1p(y_test.values)\n",
    "    \n",
    "    \n",
    "    return df_train, df_val, df_test, y_train, y_val, y_test"
   ]
  },
  {
   "cell_type": "code",
   "execution_count": 32,
   "id": "0bc4c94c",
   "metadata": {},
   "outputs": [],
   "source": [
    "# Change here the Validation and Test Percentage\n",
    "VALIDATION_SET_PER = 0.2\n",
    "TEST_SET_PER = 0.2\n",
    "    \n",
    "target_variable = 'median_house_value'\n",
    "seed_list = [0, 1, 2, 3, 4, 5, 6, 7, 8, 9]"
   ]
  },
  {
   "cell_type": "code",
   "execution_count": 33,
   "id": "f08695e7",
   "metadata": {},
   "outputs": [
    {
     "data": {
      "text/plain": [
       "[0.3388430480530033,\n",
       " 0.3362387255956208,\n",
       " 0.3320912318842181,\n",
       " 0.3405153609035696,\n",
       " 0.3389024066572879,\n",
       " 0.34348667257195825,\n",
       " 0.3451980953099266,\n",
       " 0.33959899274133615,\n",
       " 0.34662308731835895,\n",
       " 0.33659261241674004]"
      ]
     },
     "execution_count": 33,
     "metadata": {},
     "output_type": "execute_result"
    }
   ],
   "source": [
    "rsme_scores =[]\n",
    "\n",
    "for seed in seed_list:\n",
    "    np.random.seed(seed)\n",
    "    \n",
    "    df_train, df_val, df_test, y_train, y_val, y_test = \\\n",
    "    train_val_test(house_sel_df,seed, VALIDATION_SET_PER, TEST_SET_PER, target_variable)\n",
    "    \n",
    "    X_train = prepare_X(df_train,fillna_value=0)\n",
    "    #Train model\n",
    "    w_0, w = train_linear_regression(X_train , y_train)\n",
    "    \n",
    "    X_val = prepare_X(df_val,fillna_value=0)\n",
    "    \n",
    "    #Prediction\n",
    "    y_pred = w_0 + X_val@w\n",
    "\n",
    "    rsme_score =rmse(y_val, y_pred)\n",
    "    rsme_scores.append(rsme_score)\n",
    "    \n",
    "rsme_scores"
   ]
  },
  {
   "cell_type": "code",
   "execution_count": 34,
   "id": "42fa07bf",
   "metadata": {},
   "outputs": [
    {
     "name": "stdout",
     "output_type": "stream",
     "text": [
      "Standard Deviation :0.004170771946628243 \n"
     ]
    }
   ],
   "source": [
    "sd = np.array(rsme_scores).std()\n",
    "print(f\"Standard Deviation :{sd} \")"
   ]
  },
  {
   "cell_type": "code",
   "execution_count": 35,
   "id": "85d6c967",
   "metadata": {},
   "outputs": [
    {
     "name": "stdout",
     "output_type": "stream",
     "text": [
      "Q5 Answer --> Standard deviation of all the scores with different seeds 0.004\n"
     ]
    }
   ],
   "source": [
    "sd = round(np.array(rsme_scores).std(), 3)\n",
    "print(f\"Q5 Answer --> Standard deviation of all the scores with different seeds {sd}\" )"
   ]
  },
  {
   "cell_type": "code",
   "execution_count": null,
   "id": "ef21c53c",
   "metadata": {},
   "outputs": [],
   "source": []
  },
  {
   "cell_type": "raw",
   "id": "92209969",
   "metadata": {},
   "source": [
    "## Question 6\n",
    "Split the dataset like previously, use seed 9.\n",
    "Combine train and validation datasets.\n",
    "Fill the missing values with 0 and train a model with r=0.001.\n",
    "What's the RMSE on the test dataset?"
   ]
  },
  {
   "cell_type": "code",
   "execution_count": 36,
   "id": "e23c1b05",
   "metadata": {},
   "outputs": [
    {
     "data": {
      "text/plain": [
       "0.34531689143692823"
      ]
     },
     "execution_count": 36,
     "metadata": {},
     "output_type": "execute_result"
    }
   ],
   "source": [
    "seed =9\n",
    "r=0.001\n",
    "\n",
    "np.random.seed(seed)\n",
    "df_train, df_val, df_test, y_train, y_val, y_test = \\\n",
    "    train_val_test(house_sel_df,seed, VALIDATION_SET_PER, TEST_SET_PER, target_variable)\n",
    "\n",
    "df_train = pd.concat([df_train,df_val])\n",
    "y_train = np.concatenate((y_train, y_val), axis=0)\n",
    "\n",
    "    \n",
    "X_train = prepare_X(df_train,fillna_value=0)\n",
    "    #Train model\n",
    "w_0, w = train_linear_regression_reg(X_train , y_train,r=r)\n",
    "    \n",
    "X_test = prepare_X(df_test,fillna_value=0)\n",
    "    \n",
    "#Prediction\n",
    "y_pred = w_0 + X_test@w\n",
    "\n",
    "rsme_score =rmse(y_test, y_pred)\n",
    "rsme_score"
   ]
  },
  {
   "cell_type": "code",
   "execution_count": 37,
   "id": "7ad655f5",
   "metadata": {},
   "outputs": [
    {
     "name": "stdout",
     "output_type": "stream",
     "text": [
      "Q6 Answer --> What's the RMSE on the test dataset 0.35\n"
     ]
    }
   ],
   "source": [
    "print(f\"Q6 Answer --> What's the RMSE on the test dataset {round(rsme_score,2)}\" )"
   ]
  },
  {
   "cell_type": "code",
   "execution_count": null,
   "id": "236e0f98",
   "metadata": {},
   "outputs": [],
   "source": []
  },
  {
   "cell_type": "code",
   "execution_count": null,
   "id": "9d9ce368",
   "metadata": {},
   "outputs": [],
   "source": []
  }
 ],
 "metadata": {
  "kernelspec": {
   "display_name": "Python 3 (ipykernel)",
   "language": "python",
   "name": "python3"
  },
  "language_info": {
   "codemirror_mode": {
    "name": "ipython",
    "version": 3
   },
   "file_extension": ".py",
   "mimetype": "text/x-python",
   "name": "python",
   "nbconvert_exporter": "python",
   "pygments_lexer": "ipython3",
   "version": "3.9.13"
  }
 },
 "nbformat": 4,
 "nbformat_minor": 5
}
